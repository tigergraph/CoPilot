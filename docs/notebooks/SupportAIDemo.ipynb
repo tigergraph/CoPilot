{
 "cells": [
  {
   "cell_type": "markdown",
   "metadata": {},
   "source": [
    "# Using TigerGraph CoPilot for Document Question Answering"
   ]
  },
  {
   "cell_type": "code",
   "execution_count": 1,
   "metadata": {},
   "outputs": [],
   "source": [
    "from pyTigerGraph import TigerGraphConnection\n",
    "\n",
    "# We first create a connection to the database\n",
    "conn = TigerGraphConnection(\n",
    "    host=\"https://YOUR_DATABASE_HOST\",\n",
    "    username=\"tigergraph\", \n",
    "    password=\"tigergraph\")\n",
    "\n",
    "# And then add CoPilot's address to the connection. This address \n",
    "# is the host's address where the CoPilot container is running.\n",
    "conn.ai.configureCoPilotHost(\"http://YOUR_COPILOT_HOST\")"
   ]
  },
  {
   "cell_type": "markdown",
   "metadata": {},
   "source": [
    "## Create a Graph and Ingest Data"
   ]
  },
  {
   "cell_type": "code",
   "execution_count": 2,
   "metadata": {},
   "outputs": [
    {
     "data": {
      "text/plain": [
       "'The graph pyTigerGraphRAG is created.'"
      ]
     },
     "execution_count": 2,
     "metadata": {},
     "output_type": "execute_result"
    }
   ],
   "source": [
    "conn.gsql(\"\"\"CREATE GRAPH pyTigerGraphRAG()\"\"\")"
   ]
  },
  {
   "cell_type": "code",
   "execution_count": 2,
   "metadata": {},
   "outputs": [],
   "source": [
    "conn.graphname = \"pyTigerGraphRAG\""
   ]
  },
  {
   "cell_type": "code",
   "execution_count": 3,
   "metadata": {},
   "outputs": [
    {
     "data": {
      "text/plain": [
       "{'schema_creation_status': '\"Using graph \\'pyTigerGraphRAG\\'\\\\nSuccessfully created schema change jobs: [add_supportai_schema].\\\\nKick off schema change job add_supportai_schema\\\\nDoing schema change on graph \\'pyTigerGraphRAG\\' (current version: 0)\\\\nTrying to add local vertex \\'DocumentChunk\\' to the graph \\'pyTigerGraphRAG\\'.\\\\nTrying to add local vertex \\'Document\\' to the graph \\'pyTigerGraphRAG\\'.\\\\nTrying to add local vertex \\'Concept\\' to the graph \\'pyTigerGraphRAG\\'.\\\\nTrying to add local vertex \\'Entity\\' to the graph \\'pyTigerGraphRAG\\'.\\\\nTrying to add local vertex \\'Relationship\\' to the graph \\'pyTigerGraphRAG\\'.\\\\nTrying to add local vertex \\'DocumentCollection\\' to the graph \\'pyTigerGraphRAG\\'.\\\\nTrying to add local vertex \\'Content\\' to the graph \\'pyTigerGraphRAG\\'.\\\\nTrying to add local edge \\'HAS_CONTENT\\' and its reverse edge \\'reverse_HAS_CONTENT\\' to the graph \\'pyTigerGraphRAG\\'.\\\\nTrying to add local edge \\'IS_CHILD_OF\\' and its reverse edge \\'reverse_IS_CHILD_OF\\' to the graph \\'pyTigerGraphRAG\\'.\\\\nTrying to add local edge \\'IS_HEAD_OF\\' and its reverse edge \\'reverse_IS_HEAD_OF\\' to the graph \\'pyTigerGraphRAG\\'.\\\\nTrying to add local edge \\'HAS_TAIL\\' and its reverse edge \\'reverse_HAS_TAIL\\' to the graph \\'pyTigerGraphRAG\\'.\\\\nTrying to add local edge \\'DESCRIBES_RELATIONSHIP\\' and its reverse edge \\'reverse_DESCRIBES_RELATIONSHIP\\' to the graph \\'pyTigerGraphRAG\\'.\\\\nTrying to add local edge \\'DESCRIBES_ENTITY\\' and its reverse edge \\'reverse_DESCRIBES_ENTITY\\' to the graph \\'pyTigerGraphRAG\\'.\\\\nTrying to add local edge \\'CONTAINS_ENTITY\\' and its reverse edge \\'reverse_CONTAINS_ENTITY\\' to the graph \\'pyTigerGraphRAG\\'.\\\\nTrying to add local edge \\'MENTIONS_RELATIONSHIP\\' and its reverse edge \\'reverse_MENTIONS_RELATIONSHIP\\' to the graph \\'pyTigerGraphRAG\\'.\\\\nTrying to add local edge \\'IS_AFTER\\' and its reverse edge \\'reverse_IS_AFTER\\' to the graph \\'pyTigerGraphRAG\\'.\\\\nTrying to add local edge \\'HAS_CHILD\\' and its reverse edge \\'reverse_HAS_CHILD\\' to the graph \\'pyTigerGraphRAG\\'.\\\\nTrying to add local edge \\'HAS_RELATIONSHIP\\' and its reverse edge \\'reverse_HAS_RELATIONSHIP\\' to the graph \\'pyTigerGraphRAG\\'.\\\\nTrying to add local edge \\'CONTAINS_DOCUMENT\\' and its reverse edge \\'reverse_CONTAINS_DOCUMENT\\' to the graph \\'pyTigerGraphRAG\\'.\\\\n\\\\nGraph pyTigerGraphRAG updated to new version 1\\\\nThe job add_supportai_schema completes in 10.428 seconds!\\\\nLocal schema change succeeded.\"',\n",
       " 'index_creation_status': '\"Using graph \\'pyTigerGraphRAG\\'\\\\nSuccessfully created schema change jobs: [add_supportai_indexes].\\\\nKick off schema change job add_supportai_indexes\\\\nDoing schema change on graph \\'pyTigerGraphRAG\\' (current version: 1)\\\\nTrying to add index \\'doc_epoch_added_index\\' on the attribute \\'epoch_added\\' of local vertex \\'Document\\' on the graph \\'pyTigerGraphRAG\\'.\\\\nTrying to add index \\'doc_epoch_processing_index\\' on the attribute \\'epoch_processing\\' of local vertex \\'Document\\' on the graph \\'pyTigerGraphRAG\\'.\\\\nTrying to add index \\'doc_epoch_processing_indexepoch_processed_index\\' on the attribute \\'epoch_processed\\' of local vertex \\'Document\\' on the graph \\'pyTigerGraphRAG\\'.\\\\nTrying to add index \\'doc_chunk_epoch_added_index\\' on the attribute \\'epoch_added\\' of local vertex \\'DocumentChunk\\' on the graph \\'pyTigerGraphRAG\\'.\\\\nTrying to add index \\'doc_chunk_epoch_processing_index\\' on the attribute \\'epoch_processing\\' of local vertex \\'DocumentChunk\\' on the graph \\'pyTigerGraphRAG\\'.\\\\nTrying to add index \\'doc_chunk_epoch_processed_index\\' on the attribute \\'epoch_processed\\' of local vertex \\'DocumentChunk\\' on the graph \\'pyTigerGraphRAG\\'.\\\\nTrying to add index \\'concept_epoch_added_index\\' on the attribute \\'epoch_added\\' of local vertex \\'Concept\\' on the graph \\'pyTigerGraphRAG\\'.\\\\nTrying to add index \\'concept_epoch_processing_index\\' on the attribute \\'epoch_processing\\' of local vertex \\'Concept\\' on the graph \\'pyTigerGraphRAG\\'.\\\\nTrying to add index \\'concept_epoch_processed_index\\' on the attribute \\'epoch_processed\\' of local vertex \\'Concept\\' on the graph \\'pyTigerGraphRAG\\'.\\\\n\\\\nGraph pyTigerGraphRAG updated to new version 2\\\\nThe job add_supportai_indexes completes in 9.256 seconds!\\\\nLocal schema change succeeded.\"'}"
      ]
     },
     "execution_count": 3,
     "metadata": {},
     "output_type": "execute_result"
    }
   ],
   "source": [
    "conn.ai.initializeSupportAI()"
   ]
  },
  {
   "cell_type": "code",
   "execution_count": 4,
   "metadata": {},
   "outputs": [],
   "source": [
    "res = conn.ai.createDocumentIngest(\n",
    "    data_source = \"s3\",\n",
    "    data_source_config = {\"aws_access_key\": \"YOUR_AWS_ACCESS_KEY\", \"aws_secret_key\": \"YOUR_AWS_SECRET_KEY\"},\n",
    "    loader_config = {\"doc_id_field\": \"url\", \"content_field\": \"content\"},\n",
    "    file_format = \"json\"\n",
    ")"
   ]
  },
  {
   "cell_type": "code",
   "execution_count": 7,
   "metadata": {},
   "outputs": [
    {
     "data": {
      "text/plain": [
       "{'job_name': 'load_documents_content_json_435a3be2c0f840e781906361fdf4d35f',\n",
       " 'job_id': 'pyTigerGraphRAG.load_documents_content_json_435a3be2c0f840e781906361fdf4d35f.stream.SupportAI_pyTigerGraphRAG_13655a7445234d14a85024943c782103.1712758937368',\n",
       " 'log_location': '/home/tigergraph/tigergraph/log/kafkaLoader/pyTigerGraphRAG.load_documents_content_json_435a3be2c0f840e781906361fdf4d35f.stream.SupportAI_pyTigerGraphRAG_13655a7445234d14a85024943c782103.1712758937368'}"
      ]
     },
     "execution_count": 7,
     "metadata": {},
     "output_type": "execute_result"
    }
   ],
   "source": [
    "conn.ai.runDocumentIngest(res[\"load_job_id\"], res[\"data_source_id\"], \"s3://tg-documentation/pytg_current/pytg_current.jsonl\")"
   ]
  },
  {
   "cell_type": "code",
   "execution_count": 4,
   "metadata": {},
   "outputs": [
    {
     "data": {
      "text/plain": [
       "{'status': 'success'}"
      ]
     },
     "execution_count": 4,
     "metadata": {},
     "output_type": "execute_result"
    }
   ],
   "source": [
    "conn.ai.forceConsistencyUpdate()"
   ]
  },
  {
   "cell_type": "markdown",
   "metadata": {},
   "source": [
    "## Comparing Document Search Methods"
   ]
  },
  {
   "cell_type": "code",
   "execution_count": 3,
   "metadata": {},
   "outputs": [],
   "source": [
    "query = \"How do I get a count of vertices in Python?\""
   ]
  },
  {
   "cell_type": "markdown",
   "metadata": {},
   "source": [
    "### HNSW Index Overlap in Graph"
   ]
  },
  {
   "cell_type": "code",
   "execution_count": 6,
   "metadata": {},
   "outputs": [
    {
     "data": {
      "text/plain": [
       "[{'@@final_retrieval': {'EntityInfo': {'getVertexType': 'Function to retrieve the details of the specified vertex type.',\n",
       "    'getVertexStats': 'Function to return vertex attribute statistics.',\n",
       "    'getVertexCount': 'Function to retrieve the number of vertices of the specified type.',\n",
       "    'pyTigerGraph': 'Python package for connecting to TigerGraph databases.'},\n",
       "   'RelationshipInfo': {'pyTigerGraph:HAS_FUNCTION:getVertexType': 'Defines the relationship between the package and the function'},\n",
       "   'DocumentChunkInfo': {'https://docs.tigergraph.com/pytigergraph/current/contributing/_chunk_0': \"Contributing to pyTigerGraph\\\\nDownload the Repository\\\\nYou can download the repository from GitHub by:\\\\ngit clone https://github.com/tigergraph/pyTigerGraph.git\\\\nInstall the Local Version of the Package\\\\nOnce downloaded, you can install the local version of the package (without GDS support) by:\\\\npip install '.'\\\\nWithin the\\\\npyTigerGraph\\\\ndirectory, you can run the following command to install the GDS version of the package:\\\\npip install '.[gds]'\\\\nMake Changes\\\\nMake the changes you want to make to the package.\",\n",
       "    'https://docs.tigergraph.com/pytigergraph/current/contributing/_chunk_3': 'The pull request will be evaluated by our team and must have three parts:\\\\n1) Unit tests written in the\\\\ntests\\\\ndirectory.\\\\n2) Documentation in the form of docstrings and comments in the code.\\\\n3) A short writeup of the changes you are making and why (this is what will be displayed on the pull request page).\\\\nAfter that, we may reach out with further changes or suggestions to improve your pull request.',\n",
       "    'https://docs.tigergraph.com/pytigergraph/current/contributing/_chunk_4': 'Once your pull request is accepted, it will be merged into the master branch for deployment in the next release of the package.',\n",
       "    'https://docs.tigergraph.com/pytigergraph/current/gds/pyg_transforms_chunk_1': 'It assumes that there are datetime attributes on vertices and edges.',\n",
       "    'https://docs.tigergraph.com/pytigergraph/current/gds/pyg_transforms_chunk_2': 'If vertex attributes change over time, children vertex attributes are moved to the appropriate parent, and then the children are removed from the graph.\\\\n_init_\\\\n()\\\\ninit\\\\n(vertex_start_attrs: dict, vertex_end_attrs: dict, edge_start_attrs: dict, edge_end_attrs: dict, start_dt: int, end_dt: int, feature_transforms: dict, timestep: int = 86400)\\\\nInstantiate a TemporalPyGTransform.\\\\nParameters:\\\\nvertex_start_attrs (str, dict)\\\\n: If using on a homogeneous graph, string of the attribute storing the timestamp of when a vertex becomes valid to include.\\\\nIf using on a heterogenous graph, dictionary that describes the attribute storing the timestamp of when a vertex becomes a valid vertex to include in the graph.\\\\nIn the format of {\\\\\"VERTEX_TYPE\\\\\": \\\\\"attribute_name\\\\\"}.\\\\nvertex_end_attrs (str, dict)\\\\n: If using on a homogeneous graph, string of the attribute storing the timestamp of when a vertex stops being valid to include.\\\\nIf using on a heterogenous graph, dictionary that describes the attribute storing the timestamp of when a vertex stops being a valid vertex to include in the graph.\\\\nIn the format of {\\\\\"VERTEX_TYPE\\\\\": \\\\\"attribute_name\\\\\"}\\\\nedge_start_attrs (str, dict)\\\\n: If using on a homogeneous graph, string of the attribute storing the timestamp of when an edge becomes valid to include.\\\\nIf using on a heterogenous graph, dictionary that describes the attribute storing the timestamp of when an edge becomes a valid edge to include in the graph.\\\\nUses the PyG edge format of (\\\\\"SourceVertexType\\\\\", \\\\\"EdgeName\\\\\", \\\\\"DestinationVertexType\\\\\").\\\\nIn the format of {(\\\\\"SourceVertexType\\\\\", \\\\\"EdgeName\\\\\", \\\\\"DestinationVertexType\\\\\"): \\\\\"attribute_name\\\\\"}.\\\\nedge_end_attrs (str, dict)\\\\n: If using on a homogeneous graph, string of the attribute storing the timestamp of when an edge stops being valid to include.\\\\nIf using on a heterogenous graph, dictionary that describes the attribute storing the timestamp of when an edge stops being a valid edge to include in the graph.\\\\nUses the PyG edge format of (\\\\\"SourceVertexType\\\\\", \\\\\"EdgeName\\\\\", \\\\\"DestinationVertexType\\\\\").\\\\nIn the format of {(\\\\\"SourceVertexType\\\\\", \\\\\"EdgeName\\\\\", \\\\\"DestinationVertexType\\\\\"): \\\\\"attribute_name\\\\\"}\\\\nstart_dt (int)\\\\n: The UNIX epoch time to start generating the sequence of subgraphs.\\\\nend_dt (int)\\\\n: The UNIX epoch time to stop generating the sequence of subgraphs.\\\\nfeature_transforms (dict, optional)\\\\n: Only available on heterogeneous graphs. Moves temporally dynamic features from \\\\\"children\\\\\" vertices to \\\\\"parent\\\\\" vertices when\\\\nmodelling temporal attributes in TigerGraph.\\\\nThe key of the dictionary is the edge to move the attributes from the child type to the parent type, and the value is a list of attributes to move.\\\\nIn the fromat of {(\\\\\"ItemInstance\\\\\", \\\\\"reverse_DESCRIBED_BY\\\\\", \\\\\"Item\\\\\"): [\\\\\"x\\\\\"]}\\\\ntimestep (int, optional)\\\\n: The number of seconds to use in between timesteps.',\n",
       "    'https://docs.tigergraph.com/pytigergraph/current/contributing/_chunk_1': 'Make sure to document your changes in the code with docstrings and comments.',\n",
       "    'https://docs.tigergraph.com/pytigergraph/current/contributing/_chunk_5': 'Steps 1 and 2 may be skipped when making changes such as fixing typos or improving documentation, although existing unittests will be ran against your changes to ensure they pass.',\n",
       "    'https://docs.tigergraph.com/pytigergraph/current/gds/pyg_transforms_chunk_0': 'PyTorch Geometric Transforms\\\\nTemporalPyGTransform\\\\nThe TemporalPyGTransform creates a sequence of subgraph batches out of a single batch of data produced by a NeighborLoader or HGTLoader.',\n",
       "    'https://docs.tigergraph.com/pytigergraph/current/contributing/_chunk_2': 'The docstrings should be formatted as follows:\\\\ndef getVertexType(self, vertexType: str, force: bool = False) -> dict:\\\\n    \\\\\"\\\\\"\\\\\"Returns the details of the specified vertex type.\\\\n\\\\n    Args:\\\\n        vertexType:\\\\n            The name of of the vertex type.\\\\n        force:\\\\n            If `True`, forces the retrieval the schema metadata again, otherwise returns a\\\\n            cached copy of vertex type details (if they were already fetched previously).\\\\n\\\\n    Returns:\\\\n        The metadata of the vertex type.\\\\n    \\\\\"\\\\\"\\\\\"\\\\nAdditionally, all function definitions should have type hinting for both the arguments and the return value.\\\\nFinally, unit tests should be written to test the funcitonality of the change. See the\\\\ntesting documentation\\\\nfor more information.\\\\nSubmit a Pull Request\\\\nOnce you have made the changes you want to make, you can submit a pull request to the repository.'}}}]"
      ]
     },
     "execution_count": 6,
     "metadata": {},
     "output_type": "execute_result"
    }
   ],
   "source": [
    "conn.ai.searchDocuments(query,\n",
    "                        method=\"hnswoverlap\",\n",
    "                        method_parameters = {\"indices\": [\"Document\", \"DocumentChunk\", \"Entity\", \"Relationship\"],\n",
    "                                             \"top_k\": 2,\n",
    "                                             \"num_hops\": 2,\n",
    "                                             \"num_seen_min\": 2})"
   ]
  },
  {
   "cell_type": "markdown",
   "metadata": {},
   "source": [
    "### Document Chunk Vector Search"
   ]
  },
  {
   "cell_type": "code",
   "execution_count": 7,
   "metadata": {},
   "outputs": [
    {
     "data": {
      "text/plain": [
       "[{'@@final_retrieval': {'https://docs.tigergraph.com/pytigergraph/current/core-functions/schema_chunk_2': 'If the value is\\\\nFalse\\\\n, the request will always insert new\\\\nedges and create the necessary vertices with default values for their attributes.\\\\nNote that this parameter does not affect vertices.\\\\nupdateVertexOnly\\\\n: If\\\\nTrue\\\\n, the request will only update existing vertices and not insert new\\\\nvertices.\\\\nReturns:\\\\nThe result of upsert (number of vertices and edges accepted/upserted).\\\\nEndpoint:\\\\nPOST /graph/{graph_name}\\\\nSee\\\\nUpsert data to graph\\\\ngetEndpoints()\\\\ngetEndpoints(builtin: bool = False, dynamic: bool = False, static: bool = False) \\\\u2192 dict\\\\nLists the REST++ endpoints and their parameters.\\\\nParameters:\\\\nbuiltin\\\\n: List the TigerGraph-provided REST++ endpoints.\\\\ndynamic\\\\n: List endpoints for user-installed queries.\\\\nstatic\\\\n: List static endpoints.\\\\nIf none of the above arguments are specified, all endpoints are listed.\\\\nEndpoint:\\\\nGET /endpoints/{graph_name}\\\\nSee\\\\nList all endpoints',\n",
       "   'https://docs.tigergraph.com/pytigergraph/current/gds/factory-functions_chunk_52': 'Defaults to None.\\\\nbatch_size (int, optional)\\\\n: Number of vertices in each batch.\\\\nDefaults to None.\\\\nnum_batches (int, optional)\\\\n: Number of batches to split the vertices.\\\\nDefaults to 1.\\\\nshuffle (bool, optional)\\\\n: Whether to shuffle the vertices before loading data.\\\\nDefaults to False.\\\\nfilter_by (str, optional)\\\\n: A boolean attribute used to indicate which vertices\\\\ncan be included.',\n",
       "   'https://docs.tigergraph.com/pytigergraph/current/gds/pyg_transforms_chunk_1': 'It assumes that there are datetime attributes on vertices and edges.',\n",
       "   'https://docs.tigergraph.com/pytigergraph/current/gds/factory-functions_chunk_49': 'If you load all vertices at once (\\\\nnum_batches=1\\\\n),\\\\nthere will be only one batch (of all the vertices) in the iterator.\\\\nYou can access the\\\\ndata\\\\nproperty of the class directly.',\n",
       "   'https://docs.tigergraph.com/pytigergraph/current/gds/factory-functions_chunk_93': 'Each boolean attribute\\\\nindicates which part a vertex belongs to.\\\\nUsage:\\\\nA random 60% of vertices will have their attribute\\\\nattr_name\\\\nset to True, and\\\\nothers False.\\\\nattr_name\\\\ncan be any attribute that exists in the database (same below).\\\\nExample:\\\\nconn = TigerGraphConnection(...)\\\\nsplitter = RandomVertexSplitter(conn, timeout, attr_name=0.6)\\\\nsplitter.run()\\\\nA random 60% of vertices will have their attribute \\\\\"attr_name\\\\\" set to True, and a\\\\nrandom 20% of vertices will have their attribute \\\\\"attr_name2\\\\\" set to True.'}}]"
      ]
     },
     "execution_count": 7,
     "metadata": {},
     "output_type": "execute_result"
    }
   ],
   "source": [
    "conn.ai.searchDocuments(query,\n",
    "                        method=\"vdb\",\n",
    "                        method_parameters={\"index\": \"DocumentChunk\",\n",
    "                                           \"top_k\": 5,\n",
    "                                           \"withHyDE\": False})"
   ]
  },
  {
   "cell_type": "markdown",
   "metadata": {},
   "source": [
    "### Sibling Document Chunk Vector Search"
   ]
  },
  {
   "cell_type": "code",
   "execution_count": 8,
   "metadata": {},
   "outputs": [
    {
     "data": {
      "text/plain": [
       "[{'@@sibling_set': {'https://docs.tigergraph.com/pytigergraph/current/core-functions/schema_chunk_2': {'https://docs.tigergraph.com/pytigergraph/current/core-functions/schema_chunk_1': {'distance': '-1',\n",
       "     'content': 'Otherwise, the request will return immediately after RESTPP processes the POST.\\\\nnewVertexOnly\\\\n: If\\\\nTrue\\\\n, the request will only insert new vertices and not update existing ones.\\\\nvertexMustExist\\\\n: If\\\\nTrue\\\\n, the request will only insert an edge if both the\\\\nFROM\\\\nand\\\\nTO\\\\nvertices\\\\nof the edge already exist.'},\n",
       "    'https://docs.tigergraph.com/pytigergraph/current/core-functions/schema_chunk_2': {'distance': '0',\n",
       "     'content': 'If the value is\\\\nFalse\\\\n, the request will always insert new\\\\nedges and create the necessary vertices with default values for their attributes.\\\\nNote that this parameter does not affect vertices.\\\\nupdateVertexOnly\\\\n: If\\\\nTrue\\\\n, the request will only update existing vertices and not insert new\\\\nvertices.\\\\nReturns:\\\\nThe result of upsert (number of vertices and edges accepted/upserted).\\\\nEndpoint:\\\\nPOST /graph/{graph_name}\\\\nSee\\\\nUpsert data to graph\\\\ngetEndpoints()\\\\ngetEndpoints(builtin: bool = False, dynamic: bool = False, static: bool = False) \\\\u2192 dict\\\\nLists the REST++ endpoints and their parameters.\\\\nParameters:\\\\nbuiltin\\\\n: List the TigerGraph-provided REST++ endpoints.\\\\ndynamic\\\\n: List endpoints for user-installed queries.\\\\nstatic\\\\n: List static endpoints.\\\\nIf none of the above arguments are specified, all endpoints are listed.\\\\nEndpoint:\\\\nGET /endpoints/{graph_name}\\\\nSee\\\\nList all endpoints'},\n",
       "    'https://docs.tigergraph.com/pytigergraph/current/core-functions/schema_chunk_0': {'distance': '-2',\n",
       "     'content': 'Schema Functions\\\\nThe functions in this page retrieve information about the graph schema.\\\\nAll functions in this module are called as methods on a\\\\nTigerGraphConnection\\\\nobject\\\\n.\\\\ngetSchema()\\\\ngetSchema(udts: bool = True, force: bool = False) \\\\u2192 dict\\\\nRetrieves the schema metadata (of all vertex and edge type and, if not disabled, the\\\\nUser-Defined Type details) of the graph.\\\\nParameters:\\\\nudts\\\\n: If\\\\nTrue\\\\n, the output includes User-Defined Types in the schema details.\\\\nforce\\\\n: If\\\\nTrue\\\\n, retrieves the schema metadata again, otherwise returns a cached copy of\\\\nthe schema metadata (if they were already fetched previously).\\\\nReturns:\\\\nThe schema metadata.\\\\nEndpoint:\\\\nGET /gsqlserver/gsql/schema\\\\nSee\\\\nShow graph schema metadata\\\\nupsertData()\\\\nupsertData(data: Union[str, object], atomic: bool = False, ackAll: bool = False, newVertexOnly: bool = False, vertexMustExist: bool = False, updateVertexOnly: bool = False) \\\\u2192 dict\\\\nUpserts data (vertices and edges) from a JSON file or a file with equivalent object structure.\\\\nParameters:\\\\ndata\\\\n: The data of vertex and edge instances, in a specific format.\\\\natomic\\\\n: The request is an atomic transaction. An atomic transaction means that updates to\\\\nthe database contained in the request are all-or-nothing: either all changes are\\\\nsuccessful, or none are successful.\\\\nackAll\\\\n: If\\\\nTrue\\\\n, the request will return after all GPE instances have acknowledged the\\\\nPOST.'}},\n",
       "   'https://docs.tigergraph.com/pytigergraph/current/gds/factory-functions_chunk_52': {'https://docs.tigergraph.com/pytigergraph/current/gds/factory-functions_chunk_52': {'distance': '3',\n",
       "     'content': 'Defaults to None.\\\\nbatch_size (int, optional)\\\\n: Number of vertices in each batch.\\\\nDefaults to None.\\\\nnum_batches (int, optional)\\\\n: Number of batches to split the vertices.\\\\nDefaults to 1.\\\\nshuffle (bool, optional)\\\\n: Whether to shuffle the vertices before loading data.\\\\nDefaults to False.\\\\nfilter_by (str, optional)\\\\n: A boolean attribute used to indicate which vertices\\\\ncan be included.'},\n",
       "    'https://docs.tigergraph.com/pytigergraph/current/gds/factory-functions_chunk_50': {'distance': '-1',\n",
       "     'content': 'If there is\\\\nonly one batch of data to load, it will give you the batch directly instead\\\\nof an iterator, which might make more sense in that case.'},\n",
       "    'https://docs.tigergraph.com/pytigergraph/current/gds/factory-functions_chunk_49': {'distance': '-3',\n",
       "     'content': 'If you load all vertices at once (\\\\nnum_batches=1\\\\n),\\\\nthere will be only one batch (of all the vertices) in the iterator.\\\\nYou can access the\\\\ndata\\\\nproperty of the class directly.'},\n",
       "    'https://docs.tigergraph.com/pytigergraph/current/gds/factory-functions_chunk_55': {'distance': '3',\n",
       "     'content': 'Defaults to \\\\\"dataframe\\\\\".\\\\nloader_id (str, optional)\\\\n: An identifier of the loader which can be any string.'},\n",
       "    'https://docs.tigergraph.com/pytigergraph/current/gds/factory-functions_chunk_51': {'distance': '1',\n",
       "     'content': 'If there are\\\\nmultiple batches of data to load, it will return the loader again.\\\\nParameters:\\\\nattributes (list, optional)\\\\n: Vertex attributes to be included.'},\n",
       "    'https://docs.tigergraph.com/pytigergraph/current/gds/factory-functions_chunk_53': {'distance': '1',\n",
       "     'content': 'Defaults to None.\\\\noutput_format (str, optional)\\\\n: Format of the output data of the loader.'},\n",
       "    'https://docs.tigergraph.com/pytigergraph/current/gds/factory-functions_chunk_54': {'distance': '2',\n",
       "     'content': 'Only\\\\n\\\\\"dataframe\\\\\" is supported.'}},\n",
       "   'https://docs.tigergraph.com/pytigergraph/current/gds/factory-functions_chunk_49': {'https://docs.tigergraph.com/pytigergraph/current/gds/factory-functions_chunk_47': {'distance': '-2',\n",
       "     'content': 'Defaults to 300000.\\\\nSee\\\\nthe ML Workbench edge loader tutorial notebook\\\\nfor examples.\\\\nvertexLoader()\\\\nvertexLoader(attributes: Union[list, dict] = None, batch_size: int = None, num_batches: int = 1, shuffle: bool = False, filter_by: str = None, output_format: str = \\\\\"dataframe\\\\\", loader_id: str = None, buffer_size: int = 4, kafka_address: str = None, kafka_max_msg_size: int = 104857600, kafka_num_partitions: int = 1, kafka_replica_factor: int = 1, kafka_retention_ms: int = 60000, kafka_auto_del_topic: bool = True, kafka_address_consumer: str = None, kafka_address_producer: str = None, timeout: int = 300000) \\\\u2192 VertexLoader\\\\nReturns a\\\\nVertexLoader\\\\ninstance.\\\\nA\\\\nVertexLoader\\\\ncan load all vertices of a graph in batches.\\\\nIt divides vertices into\\\\nnum_batches\\\\nand returns each batch separately.\\\\nThe boolean attribute provided to\\\\nfilter_by\\\\nindicates which vertices are included.\\\\nIf you need random batches, set\\\\nshuffle\\\\nto True.\\\\nWhen you initialize the loader on a graph for the first time,\\\\nthe initialization might take a minute as it installs the corresponding\\\\nquery to the database.'},\n",
       "    'https://docs.tigergraph.com/pytigergraph/current/gds/factory-functions_chunk_52': {'distance': '3',\n",
       "     'content': 'Defaults to None.\\\\nbatch_size (int, optional)\\\\n: Number of vertices in each batch.\\\\nDefaults to None.\\\\nnum_batches (int, optional)\\\\n: Number of batches to split the vertices.\\\\nDefaults to 1.\\\\nshuffle (bool, optional)\\\\n: Whether to shuffle the vertices before loading data.\\\\nDefaults to False.\\\\nfilter_by (str, optional)\\\\n: A boolean attribute used to indicate which vertices\\\\ncan be included.'},\n",
       "    'https://docs.tigergraph.com/pytigergraph/current/gds/factory-functions_chunk_50': {'distance': '1',\n",
       "     'content': 'If there is\\\\nonly one batch of data to load, it will give you the batch directly instead\\\\nof an iterator, which might make more sense in that case.'},\n",
       "    'https://docs.tigergraph.com/pytigergraph/current/gds/factory-functions_chunk_48': {'distance': '-1',\n",
       "     'content': 'However, the query installation only\\\\nneeds to be done once, so it will take no time when you initialize the loader\\\\non the same graph again.\\\\nThere are two ways to use the data loader:\\\\nIt can be used as an iterable, which means you can loop through\\\\nit to get every batch of data.'},\n",
       "    'https://docs.tigergraph.com/pytigergraph/current/gds/factory-functions_chunk_51': {'distance': '2',\n",
       "     'content': 'If there are\\\\nmultiple batches of data to load, it will return the loader again.\\\\nParameters:\\\\nattributes (list, optional)\\\\n: Vertex attributes to be included.'},\n",
       "    'https://docs.tigergraph.com/pytigergraph/current/gds/factory-functions_chunk_46': {'distance': '-3',\n",
       "     'content': 'Defaults to be the same as\\\\nkafkaAddress\\\\n.\\\\ntimeout (int, optional)\\\\n: Timeout value for GSQL queries, in ms.'},\n",
       "    'https://docs.tigergraph.com/pytigergraph/current/gds/factory-functions_chunk_49': {'distance': '0',\n",
       "     'content': 'If you load all vertices at once (\\\\nnum_batches=1\\\\n),\\\\nthere will be only one batch (of all the vertices) in the iterator.\\\\nYou can access the\\\\ndata\\\\nproperty of the class directly.'}},\n",
       "   'https://docs.tigergraph.com/pytigergraph/current/gds/factory-functions_chunk_93': {'https://docs.tigergraph.com/pytigergraph/current/gds/factory-functions_chunk_93': {'distance': '0',\n",
       "     'content': 'Each boolean attribute\\\\nindicates which part a vertex belongs to.\\\\nUsage:\\\\nA random 60% of vertices will have their attribute\\\\nattr_name\\\\nset to True, and\\\\nothers False.\\\\nattr_name\\\\ncan be any attribute that exists in the database (same below).\\\\nExample:\\\\nconn = TigerGraphConnection(...)\\\\nsplitter = RandomVertexSplitter(conn, timeout, attr_name=0.6)\\\\nsplitter.run()\\\\nA random 60% of vertices will have their attribute \\\\\"attr_name\\\\\" set to True, and a\\\\nrandom 20% of vertices will have their attribute \\\\\"attr_name2\\\\\" set to True.'},\n",
       "    'https://docs.tigergraph.com/pytigergraph/current/gds/factory-functions_chunk_90': {'distance': '-3',\n",
       "     'content': 'Defaults to be the same as\\\\nkafkaAddress\\\\n.\\\\nkafka_address_producer (str, optional)\\\\n: Address of the kafka broker that a producer\\\\nshould use.'},\n",
       "    'https://docs.tigergraph.com/pytigergraph/current/gds/factory-functions_chunk_92': {'distance': '-1',\n",
       "     'content': 'Defaults to 300000.\\\\nSee\\\\nthe ML Workbench tutorial notebook for graph loaders\\\\nfor examples.\\\\nfeaturizer()\\\\nfeaturizer() \\\\u2192 Featurizer\\\\nGet a featurizer.\\\\nReturns:\\\\nFeaturizer\\\\nvertexSplitter()\\\\nvertexSplitter(timeout: int = 600000)\\\\nGet a vertex splitter that splits vertices into at most 3 parts randomly.\\\\nThe split results are stored in the provided vertex attributes.'},\n",
       "    'https://docs.tigergraph.com/pytigergraph/current/gds/factory-functions_chunk_91': {'distance': '-2',\n",
       "     'content': 'Defaults to be the same as\\\\nkafkaAddress\\\\n.\\\\ntimeout (int, optional)\\\\n: Timeout value for GSQL queries, in ms.'},\n",
       "    'https://docs.tigergraph.com/pytigergraph/current/gds/factory-functions_chunk_94': {'distance': '1',\n",
       "     'content': 'The two\\\\nparts are disjoint.'},\n",
       "    'https://docs.tigergraph.com/pytigergraph/current/gds/factory-functions_chunk_95': {'distance': '2',\n",
       "     'content': 'Example:\\\\nconn = TigerGraphConnection(...)\\\\nsplitter = RandomVertexSplitter(conn, timeout, attr_name=0.6, attr_name2=0.2)\\\\nsplitter.run()\\\\nA random 60% of vertices will have their attribute \\\\\"attr_name\\\\\" set to True, a\\\\nrandom 20% of vertices will have their attribute \\\\\"attr_name2\\\\\" set to True, and\\\\nanother random 20% of vertices will have their attribute \\\\\"attr_name3\\\\\" set to True.\\\\nThe three parts are disjoint.'},\n",
       "    'https://docs.tigergraph.com/pytigergraph/current/gds/factory-functions_chunk_96': {'distance': '3',\n",
       "     'content': 'Example:\\\\nconn = TigerGraphConnection(...)\\\\nsplitter = RandomVertexSplitter(conn, timeout, attr_name=0.6, attr_name2=0.2, attr_name3=0.2)\\\\nsplitter.run()\\\\nParameter:\\\\ntimeout (int, optional)\\\\n: Timeout value for the operation.'}},\n",
       "   'https://docs.tigergraph.com/pytigergraph/current/gds/pyg_transforms_chunk_1': {'https://docs.tigergraph.com/pytigergraph/current/gds/pyg_transforms_chunk_0': {'distance': '-1',\n",
       "     'content': 'PyTorch Geometric Transforms\\\\nTemporalPyGTransform\\\\nThe TemporalPyGTransform creates a sequence of subgraph batches out of a single batch of data produced by a NeighborLoader or HGTLoader.'},\n",
       "    'https://docs.tigergraph.com/pytigergraph/current/gds/pyg_transforms_chunk_1': {'distance': '0',\n",
       "     'content': 'It assumes that there are datetime attributes on vertices and edges.'},\n",
       "    'https://docs.tigergraph.com/pytigergraph/current/gds/pyg_transforms_chunk_4': {'distance': '3',\n",
       "     'content': 'Returns a list of PyTorch Geometric data objects, a sequence of snapshots in time of the graph.\\\\nEdges are removed between vertices that do not have connections at the given time.'},\n",
       "    'https://docs.tigergraph.com/pytigergraph/current/gds/pyg_transforms_chunk_3': {'distance': '2',\n",
       "     'content': 'Defaults to 86400 seconds (1 day).\\\\ncall\\\\n()\\\\ncall\\\\n(data) \\\\u2192 list\\\\nPerform the transform.'},\n",
       "    'https://docs.tigergraph.com/pytigergraph/current/gds/pyg_transforms_chunk_2': {'distance': '1',\n",
       "     'content': 'If vertex attributes change over time, children vertex attributes are moved to the appropriate parent, and then the children are removed from the graph.\\\\n_init_\\\\n()\\\\ninit\\\\n(vertex_start_attrs: dict, vertex_end_attrs: dict, edge_start_attrs: dict, edge_end_attrs: dict, start_dt: int, end_dt: int, feature_transforms: dict, timestep: int = 86400)\\\\nInstantiate a TemporalPyGTransform.\\\\nParameters:\\\\nvertex_start_attrs (str, dict)\\\\n: If using on a homogeneous graph, string of the attribute storing the timestamp of when a vertex becomes valid to include.\\\\nIf using on a heterogenous graph, dictionary that describes the attribute storing the timestamp of when a vertex becomes a valid vertex to include in the graph.\\\\nIn the format of {\\\\\"VERTEX_TYPE\\\\\": \\\\\"attribute_name\\\\\"}.\\\\nvertex_end_attrs (str, dict)\\\\n: If using on a homogeneous graph, string of the attribute storing the timestamp of when a vertex stops being valid to include.\\\\nIf using on a heterogenous graph, dictionary that describes the attribute storing the timestamp of when a vertex stops being a valid vertex to include in the graph.\\\\nIn the format of {\\\\\"VERTEX_TYPE\\\\\": \\\\\"attribute_name\\\\\"}\\\\nedge_start_attrs (str, dict)\\\\n: If using on a homogeneous graph, string of the attribute storing the timestamp of when an edge becomes valid to include.\\\\nIf using on a heterogenous graph, dictionary that describes the attribute storing the timestamp of when an edge becomes a valid edge to include in the graph.\\\\nUses the PyG edge format of (\\\\\"SourceVertexType\\\\\", \\\\\"EdgeName\\\\\", \\\\\"DestinationVertexType\\\\\").\\\\nIn the format of {(\\\\\"SourceVertexType\\\\\", \\\\\"EdgeName\\\\\", \\\\\"DestinationVertexType\\\\\"): \\\\\"attribute_name\\\\\"}.\\\\nedge_end_attrs (str, dict)\\\\n: If using on a homogeneous graph, string of the attribute storing the timestamp of when an edge stops being valid to include.\\\\nIf using on a heterogenous graph, dictionary that describes the attribute storing the timestamp of when an edge stops being a valid edge to include in the graph.\\\\nUses the PyG edge format of (\\\\\"SourceVertexType\\\\\", \\\\\"EdgeName\\\\\", \\\\\"DestinationVertexType\\\\\").\\\\nIn the format of {(\\\\\"SourceVertexType\\\\\", \\\\\"EdgeName\\\\\", \\\\\"DestinationVertexType\\\\\"): \\\\\"attribute_name\\\\\"}\\\\nstart_dt (int)\\\\n: The UNIX epoch time to start generating the sequence of subgraphs.\\\\nend_dt (int)\\\\n: The UNIX epoch time to stop generating the sequence of subgraphs.\\\\nfeature_transforms (dict, optional)\\\\n: Only available on heterogeneous graphs. Moves temporally dynamic features from \\\\\"children\\\\\" vertices to \\\\\"parent\\\\\" vertices when\\\\nmodelling temporal attributes in TigerGraph.\\\\nThe key of the dictionary is the edge to move the attributes from the child type to the parent type, and the value is a list of attributes to move.\\\\nIn the fromat of {(\\\\\"ItemInstance\\\\\", \\\\\"reverse_DESCRIBED_BY\\\\\", \\\\\"Item\\\\\"): [\\\\\"x\\\\\"]}\\\\ntimestep (int, optional)\\\\n: The number of seconds to use in between timesteps.'}}}}]"
      ]
     },
     "execution_count": 8,
     "metadata": {},
     "output_type": "execute_result"
    }
   ],
   "source": [
    "conn.ai.searchDocuments(query,\n",
    "                        method=\"sibling\",\n",
    "                        method_parameters={\"index\": \"DocumentChunk\",\n",
    "                                           \"top_k\": 5,\n",
    "                                           \"lookahead\": 3,\n",
    "                                           \"lookback\": 3,\n",
    "                                           \"withHyDE\": False})"
   ]
  },
  {
   "cell_type": "markdown",
   "metadata": {},
   "source": [
    "## Comparing LLM Generated Responses"
   ]
  },
  {
   "cell_type": "code",
   "execution_count": 5,
   "metadata": {},
   "outputs": [],
   "source": [
    "resp = conn.ai.answerQuestion(query,\n",
    "                        method=\"hnswoverlap\",\n",
    "                        method_parameters = {\"indices\": [\"Document\", \"DocumentChunk\", \"Entity\", \"Relationship\"],\n",
    "                                             \"top_k\": 2,\n",
    "                                             \"num_hops\": 2,\n",
    "                                             \"num_seen_min\": 2})"
   ]
  },
  {
   "cell_type": "code",
   "execution_count": 6,
   "metadata": {},
   "outputs": [
    {
     "name": "stdout",
     "output_type": "stream",
     "text": [
      "You can get a count of vertices in Python using the `getVertexCount` function from the `pyTigerGraph` package. This function retrieves the number of vertices of the specified type.\n"
     ]
    }
   ],
   "source": [
    "print(resp[\"response\"])"
   ]
  },
  {
   "cell_type": "code",
   "execution_count": 16,
   "metadata": {},
   "outputs": [
    {
     "name": "stdout",
     "output_type": "stream",
     "text": [
      "[{'@@final_retrieval': {'EntityInfo': {'pyTigerGraph': 'Python package for connecting to TigerGraph databases.', 'getVertexType': 'Function to retrieve the details of the specified vertex type.', 'getVertexStats': 'Function to return vertex attribute statistics.', 'getVertexCount': 'Function to retrieve the number of vertices of the specified type.'}, 'RelationshipInfo': {'pyTigerGraph:HAS_FUNCTION:getVertexType': 'Defines the relationship between the package and the function'}, 'DocumentChunkInfo': {'https://docs.tigergraph.com/pytigergraph/current/contributing/_chunk_2': 'The docstrings should be formatted as follows:\\\\ndef getVertexType(self, vertexType: str, force: bool = False) -> dict:\\\\n    \\\\\"\\\\\"\\\\\"Returns the details of the specified vertex type.\\\\n\\\\n    Args:\\\\n        vertexType:\\\\n            The name of of the vertex type.\\\\n        force:\\\\n            If `True`, forces the retrieval the schema metadata again, otherwise returns a\\\\n            cached copy of vertex type details (if they were already fetched previously).\\\\n\\\\n    Returns:\\\\n        The metadata of the vertex type.\\\\n    \\\\\"\\\\\"\\\\\"\\\\nAdditionally, all function definitions should have type hinting for both the arguments and the return value.\\\\nFinally, unit tests should be written to test the funcitonality of the change. See the\\\\ntesting documentation\\\\nfor more information.\\\\nSubmit a Pull Request\\\\nOnce you have made the changes you want to make, you can submit a pull request to the repository.', 'https://docs.tigergraph.com/pytigergraph/current/gds/pyg_transforms_chunk_0': 'PyTorch Geometric Transforms\\\\nTemporalPyGTransform\\\\nThe TemporalPyGTransform creates a sequence of subgraph batches out of a single batch of data produced by a NeighborLoader or HGTLoader.', 'https://docs.tigergraph.com/pytigergraph/current/contributing/_chunk_4': 'Once your pull request is accepted, it will be merged into the master branch for deployment in the next release of the package.', 'https://docs.tigergraph.com/pytigergraph/current/contributing/_chunk_0': \"Contributing to pyTigerGraph\\\\nDownload the Repository\\\\nYou can download the repository from GitHub by:\\\\ngit clone https://github.com/tigergraph/pyTigerGraph.git\\\\nInstall the Local Version of the Package\\\\nOnce downloaded, you can install the local version of the package (without GDS support) by:\\\\npip install '.'\\\\nWithin the\\\\npyTigerGraph\\\\ndirectory, you can run the following command to install the GDS version of the package:\\\\npip install '.[gds]'\\\\nMake Changes\\\\nMake the changes you want to make to the package.\", 'https://docs.tigergraph.com/pytigergraph/current/contributing/_chunk_3': 'The pull request will be evaluated by our team and must have three parts:\\\\n1) Unit tests written in the\\\\ntests\\\\ndirectory.\\\\n2) Documentation in the form of docstrings and comments in the code.\\\\n3) A short writeup of the changes you are making and why (this is what will be displayed on the pull request page).\\\\nAfter that, we may reach out with further changes or suggestions to improve your pull request.', 'https://docs.tigergraph.com/pytigergraph/current/contributing/_chunk_1': 'Make sure to document your changes in the code with docstrings and comments.', 'https://docs.tigergraph.com/pytigergraph/current/contributing/_chunk_5': 'Steps 1 and 2 may be skipped when making changes such as fixing typos or improving documentation, although existing unittests will be ran against your changes to ensure they pass.', 'https://docs.tigergraph.com/pytigergraph/current/gds/pyg_transforms_chunk_1': 'It assumes that there are datetime attributes on vertices and edges.', 'https://docs.tigergraph.com/pytigergraph/current/gds/pyg_transforms_chunk_2': 'If vertex attributes change over time, children vertex attributes are moved to the appropriate parent, and then the children are removed from the graph.\\\\n_init_\\\\n()\\\\ninit\\\\n(vertex_start_attrs: dict, vertex_end_attrs: dict, edge_start_attrs: dict, edge_end_attrs: dict, start_dt: int, end_dt: int, feature_transforms: dict, timestep: int = 86400)\\\\nInstantiate a TemporalPyGTransform.\\\\nParameters:\\\\nvertex_start_attrs (str, dict)\\\\n: If using on a homogeneous graph, string of the attribute storing the timestamp of when a vertex becomes valid to include.\\\\nIf using on a heterogenous graph, dictionary that describes the attribute storing the timestamp of when a vertex becomes a valid vertex to include in the graph.\\\\nIn the format of {\\\\\"VERTEX_TYPE\\\\\": \\\\\"attribute_name\\\\\"}.\\\\nvertex_end_attrs (str, dict)\\\\n: If using on a homogeneous graph, string of the attribute storing the timestamp of when a vertex stops being valid to include.\\\\nIf using on a heterogenous graph, dictionary that describes the attribute storing the timestamp of when a vertex stops being a valid vertex to include in the graph.\\\\nIn the format of {\\\\\"VERTEX_TYPE\\\\\": \\\\\"attribute_name\\\\\"}\\\\nedge_start_attrs (str, dict)\\\\n: If using on a homogeneous graph, string of the attribute storing the timestamp of when an edge becomes valid to include.\\\\nIf using on a heterogenous graph, dictionary that describes the attribute storing the timestamp of when an edge becomes a valid edge to include in the graph.\\\\nUses the PyG edge format of (\\\\\"SourceVertexType\\\\\", \\\\\"EdgeName\\\\\", \\\\\"DestinationVertexType\\\\\").\\\\nIn the format of {(\\\\\"SourceVertexType\\\\\", \\\\\"EdgeName\\\\\", \\\\\"DestinationVertexType\\\\\"): \\\\\"attribute_name\\\\\"}.\\\\nedge_end_attrs (str, dict)\\\\n: If using on a homogeneous graph, string of the attribute storing the timestamp of when an edge stops being valid to include.\\\\nIf using on a heterogenous graph, dictionary that describes the attribute storing the timestamp of when an edge stops being a valid edge to include in the graph.\\\\nUses the PyG edge format of (\\\\\"SourceVertexType\\\\\", \\\\\"EdgeName\\\\\", \\\\\"DestinationVertexType\\\\\").\\\\nIn the format of {(\\\\\"SourceVertexType\\\\\", \\\\\"EdgeName\\\\\", \\\\\"DestinationVertexType\\\\\"): \\\\\"attribute_name\\\\\"}\\\\nstart_dt (int)\\\\n: The UNIX epoch time to start generating the sequence of subgraphs.\\\\nend_dt (int)\\\\n: The UNIX epoch time to stop generating the sequence of subgraphs.\\\\nfeature_transforms (dict, optional)\\\\n: Only available on heterogeneous graphs. Moves temporally dynamic features from \\\\\"children\\\\\" vertices to \\\\\"parent\\\\\" vertices when\\\\nmodelling temporal attributes in TigerGraph.\\\\nThe key of the dictionary is the edge to move the attributes from the child type to the parent type, and the value is a list of attributes to move.\\\\nIn the fromat of {(\\\\\"ItemInstance\\\\\", \\\\\"reverse_DESCRIBED_BY\\\\\", \\\\\"Item\\\\\"): [\\\\\"x\\\\\"]}\\\\ntimestep (int, optional)\\\\n: The number of seconds to use in between timesteps.'}}}]\n"
     ]
    }
   ],
   "source": [
    "print(resp[\"retrieved\"])"
   ]
  },
  {
   "cell_type": "code",
   "execution_count": 17,
   "metadata": {},
   "outputs": [],
   "source": [
    "resp = conn.ai.answerQuestion(query,\n",
    "                        method=\"vdb\",\n",
    "                        method_parameters={\"index\": \"DocumentChunk\",\n",
    "                                           \"top_k\": 5,\n",
    "                                           \"withHyDE\": False})"
   ]
  },
  {
   "cell_type": "code",
   "execution_count": 18,
   "metadata": {},
   "outputs": [
    {
     "name": "stdout",
     "output_type": "stream",
     "text": [
      "To get a count of vertices in Python, you can use the following code:\n",
      "\n",
      "```python\n",
      "# Assuming you have a list of vertices\n",
      "vertices = [{'@@final_retrieval': {'https://docs.tigergraph.com/pytigergraph/current/core-functions/schema_chunk_2': 'If the value is\\\\nFalse\\\\n, the request will always insert new\\\\nedges and create the necessary vertices with default values for their attributes.\\\\nNote that this parameter does not affect vertices.\\\\nupdateVertexOnly\\\\n: If\\\\nTrue\\\\n, the request will only update existing vertices and not insert new\\\\nvertices.\\\\nReturns:\\\\nThe result of upsert (number of vertices and edges accepted/upserted).\\\\nEndpoint:\\\\nPOST /graph/{graph_name}\\\\nSee\\\\nUpsert data to graph\\\\ngetEndpoints()\\\\ngetEndpoints(builtin: bool = False, dynamic: bool = False, static: bool = False) \\\\u2192 dict\\\\nLists the REST++ endpoints and their parameters.\\\\nParameters:\\\\nbuiltin\\\\n: List the TigerGraph-provided REST++ endpoints.\\\\ndynamic\\\\n: List endpoints for user-installed queries.\\\\nstatic\\\\n: List static endpoints.\\\\nIf none of the above arguments are specified, all endpoints are listed.\\\\nEndpoint:\\\\nGET /endpoints/{graph_name}\\\\nSee\\\\nList all endpoints', 'https://docs.tigergraph.com/pytigergraph/current/gds/factory-functions_chunk_52': 'Defaults to None.\\\\nbatch_size (int, optional)\\\\n: Number of vertices in each batch.\\\\nDefaults to None.\\\\nnum_batches (int, optional)\\\\n: Number of batches to split the vertices.\\\\nDefaults to 1.\\\\nshuffle (bool, optional)\\\\n: Whether to shuffle the vertices before loading data.\\\\nDefaults to False.\\\\nfilter_by (str, optional)\\\\n: A boolean attribute used to indicate which vertices\\\\ncan be included.', 'https://docs.tigergraph.com/pytigergraph/current/gds/pyg_transforms_chunk_1': 'It assumes that there are datetime attributes on vertices and edges.', 'https://docs.tigergraph.com/pytigergraph/current/gds/factory-functions_chunk_93': 'Each boolean attribute\\\\nindicates which part a vertex belongs to.\\\\nUsage:\\\\nA random 60% of vertices will have their attribute\\\\nattr_name\\\\nset to True, and\\\\nothers False.\\\\nattr_name\\\\ncan be any attribute that exists in the database (same below).\\\\nExample:\\\\nconn = TigerGraphConnection(...)\\\\nsplitter = RandomVertexSplitter(conn, timeout, attr_name=0.6)\\\\nsplitter.run()\\\\nA random 60% of vertices will have their attribute \\\\\"attr_name\\\\\" set to True, and a\\\\nrandom 20% of vertices will have their attribute \\\\\"attr_name2\\\\\" set to True.', 'https://docs.tigergraph.com/pytigergraph/current/gds/factory-functions_chunk_49': 'If you load all vertices at once (\\\\nnum_batches=1\\\\n),\\\\nthere will be only one batch (of all the vertices) in the iterator.\\\\nYou can access the\\\\ndata\\\\nproperty of the class directly.'}}]\n",
      "\n",
      "# Get the count of vertices\n",
      "num_vertices = len(vertices)\n",
      "print(\"Number of vertices:\", num_vertices)\n",
      "```\n",
      "\n",
      "This code will give you the count of vertices in the list of vertices.\n"
     ]
    }
   ],
   "source": [
    "print(resp[\"response\"])"
   ]
  },
  {
   "cell_type": "code",
   "execution_count": 19,
   "metadata": {},
   "outputs": [
    {
     "name": "stdout",
     "output_type": "stream",
     "text": [
      "[{'@@final_retrieval': {'https://docs.tigergraph.com/pytigergraph/current/core-functions/schema_chunk_2': 'If the value is\\\\nFalse\\\\n, the request will always insert new\\\\nedges and create the necessary vertices with default values for their attributes.\\\\nNote that this parameter does not affect vertices.\\\\nupdateVertexOnly\\\\n: If\\\\nTrue\\\\n, the request will only update existing vertices and not insert new\\\\nvertices.\\\\nReturns:\\\\nThe result of upsert (number of vertices and edges accepted/upserted).\\\\nEndpoint:\\\\nPOST /graph/{graph_name}\\\\nSee\\\\nUpsert data to graph\\\\ngetEndpoints()\\\\ngetEndpoints(builtin: bool = False, dynamic: bool = False, static: bool = False) \\\\u2192 dict\\\\nLists the REST++ endpoints and their parameters.\\\\nParameters:\\\\nbuiltin\\\\n: List the TigerGraph-provided REST++ endpoints.\\\\ndynamic\\\\n: List endpoints for user-installed queries.\\\\nstatic\\\\n: List static endpoints.\\\\nIf none of the above arguments are specified, all endpoints are listed.\\\\nEndpoint:\\\\nGET /endpoints/{graph_name}\\\\nSee\\\\nList all endpoints', 'https://docs.tigergraph.com/pytigergraph/current/gds/factory-functions_chunk_52': 'Defaults to None.\\\\nbatch_size (int, optional)\\\\n: Number of vertices in each batch.\\\\nDefaults to None.\\\\nnum_batches (int, optional)\\\\n: Number of batches to split the vertices.\\\\nDefaults to 1.\\\\nshuffle (bool, optional)\\\\n: Whether to shuffle the vertices before loading data.\\\\nDefaults to False.\\\\nfilter_by (str, optional)\\\\n: A boolean attribute used to indicate which vertices\\\\ncan be included.', 'https://docs.tigergraph.com/pytigergraph/current/gds/pyg_transforms_chunk_1': 'It assumes that there are datetime attributes on vertices and edges.', 'https://docs.tigergraph.com/pytigergraph/current/gds/factory-functions_chunk_93': 'Each boolean attribute\\\\nindicates which part a vertex belongs to.\\\\nUsage:\\\\nA random 60% of vertices will have their attribute\\\\nattr_name\\\\nset to True, and\\\\nothers False.\\\\nattr_name\\\\ncan be any attribute that exists in the database (same below).\\\\nExample:\\\\nconn = TigerGraphConnection(...)\\\\nsplitter = RandomVertexSplitter(conn, timeout, attr_name=0.6)\\\\nsplitter.run()\\\\nA random 60% of vertices will have their attribute \\\\\"attr_name\\\\\" set to True, and a\\\\nrandom 20% of vertices will have their attribute \\\\\"attr_name2\\\\\" set to True.', 'https://docs.tigergraph.com/pytigergraph/current/gds/factory-functions_chunk_49': 'If you load all vertices at once (\\\\nnum_batches=1\\\\n),\\\\nthere will be only one batch (of all the vertices) in the iterator.\\\\nYou can access the\\\\ndata\\\\nproperty of the class directly.'}}]\n"
     ]
    }
   ],
   "source": [
    "print(resp[\"retrieved\"])"
   ]
  },
  {
   "cell_type": "code",
   "execution_count": 24,
   "metadata": {},
   "outputs": [],
   "source": [
    "resp = conn.ai.answerQuestion(query,\n",
    "                        method=\"sibling\",\n",
    "                        method_parameters={\"index\": \"DocumentChunk\",\n",
    "                                           \"top_k\": 5,\n",
    "                                           \"lookahead\": 3,\n",
    "                                           \"lookback\": 3,\n",
    "                                           \"withHyDE\": False})"
   ]
  },
  {
   "cell_type": "code",
   "execution_count": 25,
   "metadata": {},
   "outputs": [
    {
     "name": "stdout",
     "output_type": "stream",
     "text": [
      "To get a count of vertices in Python, you can use the following code:\n",
      "\n",
      "```python\n",
      "data = [{'@@sibling_set': {'https://docs.tigergraph.com/pytigergraph/current/gds/factory-functions_chunk_49': {'https://docs.tigergraph.com/pytigergraph/current/gds/factory-functions_chunk_50': {'distance': '1', 'content': 'If there is\\\\nonly one batch of data to load, it will give you the batch directly instead\\\\nof an iterator, which might make more sense in that case.'}, 'https://docs.tigergraph.com/pytigergraph/current/gds/factory-functions_chunk_52': {'distance': '3', 'content': 'Defaults to None.\\\\nbatch_size (int, optional)\\\\n: Number of vertices in each batch.\\\\nDefaults to None.\\\\nnum_batches (int, optional)\\\\n: Number of batches to split the vertices.\\\\nDefaults to 1.\\\\nshuffle (bool, optional)\\\\n: Whether to shuffle the vertices before loading data.\\\\nDefaults to False.\\\\nfilter_by (str, optional)\\\\n: A boolean attribute used to indicate which vertices\\\\ncan be included.'}, 'https://docs.tigergraph.com/pytigergraph/current/gds/factory-functions_chunk_47': {'distance': '-2', 'content': 'Defaults to 300000.\\\\nSee\\\\nthe ML Workbench edge loader tutorial notebook\\\\nfor examples.\\\\nvertexLoader()\\\\nvertexLoader(attributes: Union[list, dict] = None, batch_size: int = None, num_batches: int = 1, shuffle: bool = False, filter_by: str = None, output_format: str = \\\\\"dataframe\\\\\", loader_id: str = None, buffer_size: int = 4, kafka_address: str = None, kafka_max_msg_size: int = 104857600, kafka_num_partitions: int = 1, kafka_replica_factor: int = 1, kafka_retention_ms: int = 60000, kafka_auto_del_topic: bool = True, kafka_address_consumer: str = None, kafka_address_producer: str = None, timeout: int = 300000) \\\\u2192 VertexLoader\\\\nReturns a\\\\nVertexLoader\\\\ninstance.\\\\nA\\\\nVertexLoader\\\\ncan load all vertices of a graph in batches.\\\\nIt divides vertices into\\\\nnum_batches\\\\nand returns each batch separately.\\\\nThe boolean attribute provided to\\\\nfilter_by\\\\nindicates which vertices are included.\\\\nIf you need random batches, set\\\\nshuffle\\\\nto True.\\\\nWhen you initialize the loader on a graph for the first time,\\\\nthe initialization might take a minute as it installs the corresponding\\\\nquery to the database.'}, 'https://docs.tigergraph.com/pytigergraph/current/gds/factory-functions_chunk_49': {'distance': '0', 'content': 'If you load all vertices at once (\\\\nnum_batches=1\\\\n),\\\\nthere will be only one batch (of all the vertices) in the iterator.\\\\nYou can access the\\\\ndata\\\\nproperty of the class directly.'}, 'https://docs.tigergraph.com/pytigergraph/current/gds/factory-functions_chunk_48': {'distance': '-1', 'content': 'However, the query installation only\\\\nneeds to be done once, so it will take no time when you initialize the loader\\\\non the same graph again.\\\\nThere are two ways to use the data loader:\\\\nIt can be used as an iterable, which means you can loop through\\\\nit to get every batch of data.'}, 'https://docs.tigergraph.com/pytigergraph/current/gds/factory-functions_chunk_46': {'distance': '-3', 'content': 'Defaults to be the same as\\\\nkafkaAddress\\\\n.\\\\ntimeout (int, optional)\\\\n: Timeout value for GSQL queries, in ms.'}, 'https://docs.tigergraph.com/pytigergraph/current/gds/factory-functions_chunk_51': {'distance': '2', 'content': 'If there are\\\\nmultiple batches of data to load, it will return the loader again.\\\\nParameters:\\\\nattributes (list, optional)\\\\n: Vertex attributes to be included.'}}, 'https://docs.tigergraph.com/pytigergraph/current/gds/factory-functions_chunk_52': {'https://docs.tigergraph.com/pytigergraph/current/gds/factory-functions_chunk_50': {'distance': '-1', 'content': 'If there is\\\\nonly one batch of data to load, it will give you the batch directly instead\\\\nof an iterator, which might make more sense in that case.'}, 'https://docs.tigergraph.com/pytigergraph/current/gds/factory-functions_chunk_52': {'distance': '3', 'content': 'Defaults to None.\\\\nbatch_size (int, optional)\\\\n: Number of vertices in each batch.\\\\nDefaults to None.\\\\nnum_batches (int, optional)\\\\n: Number of batches to split the vertices.\\\\nDefaults to 1.\\\\nshuffle (bool, optional)\\\\n: Whether to shuffle the vertices before loading data.\\\\nDefaults to False.\\\\nfilter_by (str, optional)\\\\n: A boolean attribute used to indicate which vertices\\\\ncan be included.'}, 'https://docs.tigergraph.com/pytigergraph/current/gds/factory-functions_chunk_54': {'distance': '2', 'content': 'Only\\\\n\\\\\"dataframe\\\\\" is supported.'}, 'https://docs.tigergraph.com/pytigergraph/current/gds/factory-functions_chunk_53': {'distance': '1', 'content': 'Defaults to None.\\\\noutput_format (str, optional)\\\\n: Format of the output data of the loader.'}, 'https://docs.tigergraph.com/pytigergraph/current/gds/factory-functions_chunk_49': {'distance': '-3', 'content': 'If you load all vertices at once (\\\\nnum_batches=1\\\\n),\\\\nthere will be only one batch (of all the vertices) in the iterator.\\\\nYou can access the\\\\ndata\\\\nproperty of the class directly.'}, 'https://docs.tigergraph.com/pytigergraph/current/gds/factory-functions_chunk_51': {'distance': '1', 'content': 'If there are\\\\nmultiple batches of data to load, it will return the loader again.\\\\nParameters:\\\\nattributes (list, optional)\\\\n: Vertex attributes to be included.'}, 'https://docs.tigergraph.com/pytigergraph/current/gds/factory-functions_chunk_55': {'distance': '3', 'content': 'Defaults to \\\\\"dataframe\\\\\".\\\\nloader_id (str, optional)\\\\n: An identifier of the loader which can be any string.'}}, 'https://docs.tigergraph.com/pytigergraph/current/core-functions/schema_chunk_2': {'https://docs.tigergraph.com/pytigergraph/current/core-functions/schema_chunk_0': {'distance': '-2', 'content': 'Schema Functions\\\\nThe functions in this page retrieve information about the graph schema.\\\\nAll functions in this module are called as methods on a\\\\nTigerGraphConnection\\\\nobject\\\\n.\\\\ngetSchema()\\\\ngetSchema(udts: bool = True, force: bool = False) \\\\u2192 dict\\\\nRetrieves the schema metadata (of all vertex and edge type and, if not disabled, the\\\\nUser-Defined Type details) of the graph.\\\\nParameters:\\\\nudts\\\\n: If\\\\nTrue\\\\n, the output includes User-Defined Types in the schema details.\\\\nforce\\\\n: If\\\\nTrue\\\\n, retrieves the schema metadata again, otherwise returns a cached copy of\\\\nthe schema metadata (if they were already fetched previously).\\\\nReturns:\\\\nThe schema metadata.\\\\nEndpoint:\\\\nGET /gsqlserver/gsql/schema\\\\nSee\\\\nShow graph schema metadata\\\\nupsertData()\\\\nupsertData(data: Union[str, object], atomic: bool = False, ackAll: bool = False, newVertexOnly: bool = False, vertexMustExist: bool = False, updateVertexOnly: bool = False) \\\\u2192 dict\\\\nUpserts data (vertices and edges) from a JSON file or a file with equivalent object structure.\\\\nParameters:\\\\ndata\\\\n: The data of vertex and edge instances, in a specific format.\\\\natomic\\\\n: The request is an atomic transaction. An atomic transaction means that updates to\\\\nthe database contained in the request are all-or-nothing: either all changes are\\\\nsuccessful, or none are successful.\\\\nackAll\\\\n: If\\\\nTrue\\\\n, the request will return after all GPE instances have acknowledged the\\\\nPOST.'}, 'https://docs.tigergraph.com/pytigergraph/current/core-functions/schema_chunk_2': {'distance': '0', 'content': 'If the value is\\\\nFalse\\\\n, the request will always insert new\\\\nedges and create the necessary vertices with default values for their attributes.\\\\nNote that this parameter does not affect vertices.\\\\nupdateVertexOnly\\\\n: If\\\\nTrue\\\\n, the request will only update existing vertices and not insert new\\\\nvertices.\\\\nReturns:\\\\nThe result of upsert (number of vertices and edges accepted/upserted).\\\\nEndpoint:\\\\nPOST /graph/{graph_name}\\\\nSee\\\\nUpsert data to graph\\\\ngetEndpoints()\\\\ngetEndpoints(builtin: bool = False, dynamic: bool = False, static: bool = False) \\\\u2192 dict\\\\nLists the REST++ endpoints and their parameters.\\\\nParameters:\\\\nbuiltin\\\\n: List the TigerGraph-provided REST++ endpoints.\\\\ndynamic\\\\n: List endpoints for user-installed queries.\\\\nstatic\\\\n: List static endpoints.\\\\nIf none of the above arguments are specified, all endpoints are listed.\\\\nEndpoint:\\\\nGET /endpoints/{graph_name}\\\\nSee\\\\nList all endpoints'}, 'https://docs.tigergraph.com/pytigergraph/current/core-functions/schema_chunk_1': {'distance': '-1', 'content': 'Otherwise, the request will return immediately after RESTPP processes the POST.\\\\nnewVertexOnly\\\\n: If\\\\nTrue\\\\n, the request will only insert new vertices and not update existing ones.\\\\nvertexMustExist\\\\n: If\\\\nTrue\\\\n, the request will only insert an edge if both the\\\\nFROM\\\\nand\\\\nTO\\\\nvertices\\\\nof the edge already exist.'}}, 'https://docs.tigergraph.com/pytigergraph/current/gds/factory-functions_chunk_93': {'https://docs.tigergraph.com/pytigergraph/current/gds/factory-functions_chunk_95': {'distance': '2', 'content': 'Example:\\\\nconn = TigerGraphConnection(...)\\\\nsplitter = RandomVertexSplitter(conn, timeout, attr_name=0.6, attr_name2=0.2)\\\\nsplitter.run()\\\\nA random 60% of vertices will have their attribute \\\\\"attr_name\\\\\" set to True, a\\\\nrandom 20% of vertices will have their attribute \\\\\"attr_name2\\\\\" set to True, and\\\\nanother random 20% of vertices will have their attribute \\\\\"attr_name3\\\\\" set to True.\\\\nThe three parts are disjoint.'}, 'https://docs.tigergraph.com/pytigergraph/current/gds/factory-functions_chunk_90': {'distance': '-3', 'content': 'Defaults to be the same as\\\\nkafkaAddress\\\\n.\\\\nkafka_address_producer (str, optional)\\\\n: Address of the kafka broker that a producer\\\\nshould use.'}, 'https://docs.tigergraph.com/pytigergraph/current/gds/factory-functions_chunk_92': {'distance': '-1', 'content': 'Defaults to 300000.\\\\nSee\\\\nthe ML Workbench tutorial notebook for graph loaders\\\\nfor examples.\\\\nfeaturizer()\\\\nfeaturizer() \\\\u2192 Featurizer\\\\nGet a featurizer.\\\\nReturns:\\\\nFeaturizer\\\\nvertexSplitter()\\\\nvertexSplitter(timeout: int = 600000)\\\\nGet a vertex splitter that splits vertices into at most 3 parts randomly.\\\\nThe split results are stored in the provided vertex attributes.'}, 'https://docs.tigergraph.com/pytigergraph/current/gds/factory-functions_chunk_96': {'distance': '3', 'content': 'Example:\\\\nconn = TigerGraphConnection(...)\\\\nsplitter = RandomVertexSplitter(conn, timeout, attr_name=0.6, attr_name2=0.2, attr_name3=0.2)\\\\nsplitter.run()\\\\nParameter:\\\\ntimeout (int, optional)\\\\n: Timeout value for the operation.'}, 'https://docs.tigergraph.com/pytigergraph/current/gds/factory-functions_chunk_93': {'distance': '0', 'content': 'Each boolean attribute\\\\nindicates which part a vertex belongs to.\\\\nUsage:\\\\nA random 60% of vertices will have their attribute\\\\nattr_name\\\\nset to True, and\\\\nothers False.\\\\nattr_name\\\\ncan be any attribute that exists in the database (same below).\\\\nExample:\\\\nconn = TigerGraphConnection(...)\\\\nsplitter = RandomVertexSplitter(conn, timeout, attr_name=0.6)\\\\nsplitter.run()\\\\nA random 60% of vertices will have their attribute \\\\\"attr_name\\\\\" set to True, and a\\\\nrandom 20% of vertices will have their attribute \\\\\"attr_name2\\\\\" set to True.'}, 'https://docs.tigergraph.com/pytigergraph/current/gds/factory-functions_chunk_91': {'distance': '-2', 'content': 'Defaults to be the same as\\\\nkafkaAddress\\\\n.\\\\ntimeout (int, optional)\\\\n: Timeout value for GSQL queries, in ms.'}, 'https://docs.tigergraph.com/pytigergraph/current/gds/factory-functions_chunk_94': {'distance': '1', 'content': 'The two\\\\nparts are disjoint.'}}, 'https://docs.tigergraph.com/pytigergraph/current/gds/pyg_transforms_chunk_1': {'https://docs.tigergraph.com/pytigergraph/current/gds/pyg_transforms_chunk_3': {'distance': '2', 'content': 'Defaults to 86400 seconds (1 day).\\\\ncall\\\\n()\\\\ncall\\\\n(data) \\\\u2192 list\\\\nPerform the transform.'}, 'https://docs.tigergraph.com/pytigergraph/current/gds/pyg_transforms_chunk_0': {'distance': '-1', 'content': 'PyTorch Geometric Transforms\\\\nTemporalPyGTransform\\\\nThe TemporalPyGTransform creates a sequence of subgraph batches out of a single batch of data produced by a NeighborLoader or HGTLoader.'}, 'https://docs.tigergraph.com/pytigergraph/current/gds/pyg_transforms_chunk_1': {'distance': '0', 'content': 'It assumes that there are datetime attributes on vertices and edges.'}, 'https://docs.tigergraph.com/pytigergraph/current/gds/pyg_transforms_chunk_2': {'distance': '1', 'content': 'If vertex attributes change over time, children vertex attributes are moved to the appropriate parent, and then the children are removed from the graph.\\\\n_init_\\\\n()\\\\ninit\\\\n(vertex_start_attrs: dict, vertex_end_attrs: dict, edge_start_attrs: dict, edge_end_attrs: dict, start_dt: int, end_dt: int, feature_transforms: dict, timestep: int = 86400)\\\\nInstantiate a TemporalPyGTransform.\\\\nParameters:\\\\nvertex_start_attrs (str, dict)\\\\n: If using on a homogeneous graph, string of the attribute storing the timestamp of when a vertex becomes valid to include.\\\\nIf using on a heterogenous graph, dictionary that describes the attribute storing the timestamp of when a vertex becomes a valid vertex to include in the graph.\\\\nIn the format of {\\\\\"VERTEX_TYPE\\\\\": \\\\\"attribute_name\\\\\"}.\\\\nvertex_end_attrs (str, dict)\\\\n: If using on a homogeneous graph, string of the attribute storing the timestamp of when a vertex stops being valid to include.\\\\nIf using on a heterogenous graph, dictionary that describes the attribute storing the timestamp of when a vertex stops being a valid vertex to include in the graph.\\\\nIn the format of {\\\\\"VERTEX_TYPE\\\\\": \\\\\"attribute_name\\\\\"}\\\\nedge_start_attrs (str, dict)\\\\n: If using on a homogeneous graph, string of the attribute storing the timestamp of when an edge becomes valid to include.\\\\nIf using on a heterogenous graph, dictionary that describes the attribute storing the timestamp of when an edge becomes a valid edge to include in the graph.\\\\nUses the PyG edge format of (\\\\\"SourceVertexType\\\\\", \\\\\"EdgeName\\\\\", \\\\\"DestinationVertexType\\\\\").\\\\nIn the format of {(\\\\\"SourceVertexType\\\\\", \\\\\"EdgeName\\\\\", \\\\\"DestinationVertexType\\\\\"): \\\\\"attribute_name\\\\\"}.\\\\nedge_end_attrs (str, dict)\\\\n: If using on a homogeneous graph, string of the attribute storing the timestamp of when an edge stops being valid to include.\\\\nIf using on a heterogenous graph, dictionary that describes the attribute storing the timestamp of when an edge stops being a valid edge to include in the graph.\\\\nUses the PyG edge format of (\\\\\"SourceVertexType\\\\\", \\\\\"EdgeName\\\\\", \\\\\"DestinationVertexType\\\\\").\\\\nIn the format of {(\\\\\"SourceVertexType\\\\\", \\\\\"EdgeName\\\\\", \\\\\"DestinationVertexType\\\\\"): \\\\\"attribute_name\\\\\"}\\\\nstart_dt (int)\\\\n: The UNIX epoch time to start generating the sequence of subgraphs.\\\\nend_dt (int)\\\\n: The UNIX epoch time to stop generating the sequence of subgraphs.\\\\nfeature_transforms (dict, optional)\\\\n: Only available on heterogeneous graphs. Moves temporally dynamic features from \\\\\"children\\\\\" vertices to \\\\\"parent\\\\\" vertices when\\\\nmodelling temporal attributes in TigerGraph.\\\\nThe key of the dictionary is the edge to move the attributes from the child type to the parent type, and the value is a list of attributes to move.\\\\nIn the fromat of {(\\\\\"ItemInstance\\\\\", \\\\\"reverse_DESCRIBED_BY\\\\\", \\\\\"Item\\\\\"): [\\\\\"x\\\\\"]}\\\\ntimestep (int, optional)\\\\n: The number of seconds to use in between timesteps.'}, 'https://docs.tigergraph.com/pytigergraph/current/gds/pyg_transforms_chunk_4': {'distance': '3', 'content': 'Returns a list of PyTorch Geometric data objects, a sequence of snapshots in time of the graph.\\\\nEdges are\n"
     ]
    }
   ],
   "source": [
    "print(resp[\"response\"])"
   ]
  },
  {
   "cell_type": "code",
   "execution_count": 26,
   "metadata": {},
   "outputs": [
    {
     "name": "stdout",
     "output_type": "stream",
     "text": [
      "[{'@@sibling_set': {'https://docs.tigergraph.com/pytigergraph/current/gds/factory-functions_chunk_49': {'https://docs.tigergraph.com/pytigergraph/current/gds/factory-functions_chunk_50': {'distance': '1', 'content': 'If there is\\\\nonly one batch of data to load, it will give you the batch directly instead\\\\nof an iterator, which might make more sense in that case.'}, 'https://docs.tigergraph.com/pytigergraph/current/gds/factory-functions_chunk_52': {'distance': '3', 'content': 'Defaults to None.\\\\nbatch_size (int, optional)\\\\n: Number of vertices in each batch.\\\\nDefaults to None.\\\\nnum_batches (int, optional)\\\\n: Number of batches to split the vertices.\\\\nDefaults to 1.\\\\nshuffle (bool, optional)\\\\n: Whether to shuffle the vertices before loading data.\\\\nDefaults to False.\\\\nfilter_by (str, optional)\\\\n: A boolean attribute used to indicate which vertices\\\\ncan be included.'}, 'https://docs.tigergraph.com/pytigergraph/current/gds/factory-functions_chunk_47': {'distance': '-2', 'content': 'Defaults to 300000.\\\\nSee\\\\nthe ML Workbench edge loader tutorial notebook\\\\nfor examples.\\\\nvertexLoader()\\\\nvertexLoader(attributes: Union[list, dict] = None, batch_size: int = None, num_batches: int = 1, shuffle: bool = False, filter_by: str = None, output_format: str = \\\\\"dataframe\\\\\", loader_id: str = None, buffer_size: int = 4, kafka_address: str = None, kafka_max_msg_size: int = 104857600, kafka_num_partitions: int = 1, kafka_replica_factor: int = 1, kafka_retention_ms: int = 60000, kafka_auto_del_topic: bool = True, kafka_address_consumer: str = None, kafka_address_producer: str = None, timeout: int = 300000) \\\\u2192 VertexLoader\\\\nReturns a\\\\nVertexLoader\\\\ninstance.\\\\nA\\\\nVertexLoader\\\\ncan load all vertices of a graph in batches.\\\\nIt divides vertices into\\\\nnum_batches\\\\nand returns each batch separately.\\\\nThe boolean attribute provided to\\\\nfilter_by\\\\nindicates which vertices are included.\\\\nIf you need random batches, set\\\\nshuffle\\\\nto True.\\\\nWhen you initialize the loader on a graph for the first time,\\\\nthe initialization might take a minute as it installs the corresponding\\\\nquery to the database.'}, 'https://docs.tigergraph.com/pytigergraph/current/gds/factory-functions_chunk_49': {'distance': '0', 'content': 'If you load all vertices at once (\\\\nnum_batches=1\\\\n),\\\\nthere will be only one batch (of all the vertices) in the iterator.\\\\nYou can access the\\\\ndata\\\\nproperty of the class directly.'}, 'https://docs.tigergraph.com/pytigergraph/current/gds/factory-functions_chunk_48': {'distance': '-1', 'content': 'However, the query installation only\\\\nneeds to be done once, so it will take no time when you initialize the loader\\\\non the same graph again.\\\\nThere are two ways to use the data loader:\\\\nIt can be used as an iterable, which means you can loop through\\\\nit to get every batch of data.'}, 'https://docs.tigergraph.com/pytigergraph/current/gds/factory-functions_chunk_46': {'distance': '-3', 'content': 'Defaults to be the same as\\\\nkafkaAddress\\\\n.\\\\ntimeout (int, optional)\\\\n: Timeout value for GSQL queries, in ms.'}, 'https://docs.tigergraph.com/pytigergraph/current/gds/factory-functions_chunk_51': {'distance': '2', 'content': 'If there are\\\\nmultiple batches of data to load, it will return the loader again.\\\\nParameters:\\\\nattributes (list, optional)\\\\n: Vertex attributes to be included.'}}, 'https://docs.tigergraph.com/pytigergraph/current/gds/factory-functions_chunk_52': {'https://docs.tigergraph.com/pytigergraph/current/gds/factory-functions_chunk_50': {'distance': '-1', 'content': 'If there is\\\\nonly one batch of data to load, it will give you the batch directly instead\\\\nof an iterator, which might make more sense in that case.'}, 'https://docs.tigergraph.com/pytigergraph/current/gds/factory-functions_chunk_52': {'distance': '3', 'content': 'Defaults to None.\\\\nbatch_size (int, optional)\\\\n: Number of vertices in each batch.\\\\nDefaults to None.\\\\nnum_batches (int, optional)\\\\n: Number of batches to split the vertices.\\\\nDefaults to 1.\\\\nshuffle (bool, optional)\\\\n: Whether to shuffle the vertices before loading data.\\\\nDefaults to False.\\\\nfilter_by (str, optional)\\\\n: A boolean attribute used to indicate which vertices\\\\ncan be included.'}, 'https://docs.tigergraph.com/pytigergraph/current/gds/factory-functions_chunk_54': {'distance': '2', 'content': 'Only\\\\n\\\\\"dataframe\\\\\" is supported.'}, 'https://docs.tigergraph.com/pytigergraph/current/gds/factory-functions_chunk_53': {'distance': '1', 'content': 'Defaults to None.\\\\noutput_format (str, optional)\\\\n: Format of the output data of the loader.'}, 'https://docs.tigergraph.com/pytigergraph/current/gds/factory-functions_chunk_49': {'distance': '-3', 'content': 'If you load all vertices at once (\\\\nnum_batches=1\\\\n),\\\\nthere will be only one batch (of all the vertices) in the iterator.\\\\nYou can access the\\\\ndata\\\\nproperty of the class directly.'}, 'https://docs.tigergraph.com/pytigergraph/current/gds/factory-functions_chunk_51': {'distance': '1', 'content': 'If there are\\\\nmultiple batches of data to load, it will return the loader again.\\\\nParameters:\\\\nattributes (list, optional)\\\\n: Vertex attributes to be included.'}, 'https://docs.tigergraph.com/pytigergraph/current/gds/factory-functions_chunk_55': {'distance': '3', 'content': 'Defaults to \\\\\"dataframe\\\\\".\\\\nloader_id (str, optional)\\\\n: An identifier of the loader which can be any string.'}}, 'https://docs.tigergraph.com/pytigergraph/current/core-functions/schema_chunk_2': {'https://docs.tigergraph.com/pytigergraph/current/core-functions/schema_chunk_0': {'distance': '-2', 'content': 'Schema Functions\\\\nThe functions in this page retrieve information about the graph schema.\\\\nAll functions in this module are called as methods on a\\\\nTigerGraphConnection\\\\nobject\\\\n.\\\\ngetSchema()\\\\ngetSchema(udts: bool = True, force: bool = False) \\\\u2192 dict\\\\nRetrieves the schema metadata (of all vertex and edge type and, if not disabled, the\\\\nUser-Defined Type details) of the graph.\\\\nParameters:\\\\nudts\\\\n: If\\\\nTrue\\\\n, the output includes User-Defined Types in the schema details.\\\\nforce\\\\n: If\\\\nTrue\\\\n, retrieves the schema metadata again, otherwise returns a cached copy of\\\\nthe schema metadata (if they were already fetched previously).\\\\nReturns:\\\\nThe schema metadata.\\\\nEndpoint:\\\\nGET /gsqlserver/gsql/schema\\\\nSee\\\\nShow graph schema metadata\\\\nupsertData()\\\\nupsertData(data: Union[str, object], atomic: bool = False, ackAll: bool = False, newVertexOnly: bool = False, vertexMustExist: bool = False, updateVertexOnly: bool = False) \\\\u2192 dict\\\\nUpserts data (vertices and edges) from a JSON file or a file with equivalent object structure.\\\\nParameters:\\\\ndata\\\\n: The data of vertex and edge instances, in a specific format.\\\\natomic\\\\n: The request is an atomic transaction. An atomic transaction means that updates to\\\\nthe database contained in the request are all-or-nothing: either all changes are\\\\nsuccessful, or none are successful.\\\\nackAll\\\\n: If\\\\nTrue\\\\n, the request will return after all GPE instances have acknowledged the\\\\nPOST.'}, 'https://docs.tigergraph.com/pytigergraph/current/core-functions/schema_chunk_2': {'distance': '0', 'content': 'If the value is\\\\nFalse\\\\n, the request will always insert new\\\\nedges and create the necessary vertices with default values for their attributes.\\\\nNote that this parameter does not affect vertices.\\\\nupdateVertexOnly\\\\n: If\\\\nTrue\\\\n, the request will only update existing vertices and not insert new\\\\nvertices.\\\\nReturns:\\\\nThe result of upsert (number of vertices and edges accepted/upserted).\\\\nEndpoint:\\\\nPOST /graph/{graph_name}\\\\nSee\\\\nUpsert data to graph\\\\ngetEndpoints()\\\\ngetEndpoints(builtin: bool = False, dynamic: bool = False, static: bool = False) \\\\u2192 dict\\\\nLists the REST++ endpoints and their parameters.\\\\nParameters:\\\\nbuiltin\\\\n: List the TigerGraph-provided REST++ endpoints.\\\\ndynamic\\\\n: List endpoints for user-installed queries.\\\\nstatic\\\\n: List static endpoints.\\\\nIf none of the above arguments are specified, all endpoints are listed.\\\\nEndpoint:\\\\nGET /endpoints/{graph_name}\\\\nSee\\\\nList all endpoints'}, 'https://docs.tigergraph.com/pytigergraph/current/core-functions/schema_chunk_1': {'distance': '-1', 'content': 'Otherwise, the request will return immediately after RESTPP processes the POST.\\\\nnewVertexOnly\\\\n: If\\\\nTrue\\\\n, the request will only insert new vertices and not update existing ones.\\\\nvertexMustExist\\\\n: If\\\\nTrue\\\\n, the request will only insert an edge if both the\\\\nFROM\\\\nand\\\\nTO\\\\nvertices\\\\nof the edge already exist.'}}, 'https://docs.tigergraph.com/pytigergraph/current/gds/factory-functions_chunk_93': {'https://docs.tigergraph.com/pytigergraph/current/gds/factory-functions_chunk_95': {'distance': '2', 'content': 'Example:\\\\nconn = TigerGraphConnection(...)\\\\nsplitter = RandomVertexSplitter(conn, timeout, attr_name=0.6, attr_name2=0.2)\\\\nsplitter.run()\\\\nA random 60% of vertices will have their attribute \\\\\"attr_name\\\\\" set to True, a\\\\nrandom 20% of vertices will have their attribute \\\\\"attr_name2\\\\\" set to True, and\\\\nanother random 20% of vertices will have their attribute \\\\\"attr_name3\\\\\" set to True.\\\\nThe three parts are disjoint.'}, 'https://docs.tigergraph.com/pytigergraph/current/gds/factory-functions_chunk_90': {'distance': '-3', 'content': 'Defaults to be the same as\\\\nkafkaAddress\\\\n.\\\\nkafka_address_producer (str, optional)\\\\n: Address of the kafka broker that a producer\\\\nshould use.'}, 'https://docs.tigergraph.com/pytigergraph/current/gds/factory-functions_chunk_92': {'distance': '-1', 'content': 'Defaults to 300000.\\\\nSee\\\\nthe ML Workbench tutorial notebook for graph loaders\\\\nfor examples.\\\\nfeaturizer()\\\\nfeaturizer() \\\\u2192 Featurizer\\\\nGet a featurizer.\\\\nReturns:\\\\nFeaturizer\\\\nvertexSplitter()\\\\nvertexSplitter(timeout: int = 600000)\\\\nGet a vertex splitter that splits vertices into at most 3 parts randomly.\\\\nThe split results are stored in the provided vertex attributes.'}, 'https://docs.tigergraph.com/pytigergraph/current/gds/factory-functions_chunk_96': {'distance': '3', 'content': 'Example:\\\\nconn = TigerGraphConnection(...)\\\\nsplitter = RandomVertexSplitter(conn, timeout, attr_name=0.6, attr_name2=0.2, attr_name3=0.2)\\\\nsplitter.run()\\\\nParameter:\\\\ntimeout (int, optional)\\\\n: Timeout value for the operation.'}, 'https://docs.tigergraph.com/pytigergraph/current/gds/factory-functions_chunk_93': {'distance': '0', 'content': 'Each boolean attribute\\\\nindicates which part a vertex belongs to.\\\\nUsage:\\\\nA random 60% of vertices will have their attribute\\\\nattr_name\\\\nset to True, and\\\\nothers False.\\\\nattr_name\\\\ncan be any attribute that exists in the database (same below).\\\\nExample:\\\\nconn = TigerGraphConnection(...)\\\\nsplitter = RandomVertexSplitter(conn, timeout, attr_name=0.6)\\\\nsplitter.run()\\\\nA random 60% of vertices will have their attribute \\\\\"attr_name\\\\\" set to True, and a\\\\nrandom 20% of vertices will have their attribute \\\\\"attr_name2\\\\\" set to True.'}, 'https://docs.tigergraph.com/pytigergraph/current/gds/factory-functions_chunk_91': {'distance': '-2', 'content': 'Defaults to be the same as\\\\nkafkaAddress\\\\n.\\\\ntimeout (int, optional)\\\\n: Timeout value for GSQL queries, in ms.'}, 'https://docs.tigergraph.com/pytigergraph/current/gds/factory-functions_chunk_94': {'distance': '1', 'content': 'The two\\\\nparts are disjoint.'}}, 'https://docs.tigergraph.com/pytigergraph/current/gds/pyg_transforms_chunk_1': {'https://docs.tigergraph.com/pytigergraph/current/gds/pyg_transforms_chunk_3': {'distance': '2', 'content': 'Defaults to 86400 seconds (1 day).\\\\ncall\\\\n()\\\\ncall\\\\n(data) \\\\u2192 list\\\\nPerform the transform.'}, 'https://docs.tigergraph.com/pytigergraph/current/gds/pyg_transforms_chunk_0': {'distance': '-1', 'content': 'PyTorch Geometric Transforms\\\\nTemporalPyGTransform\\\\nThe TemporalPyGTransform creates a sequence of subgraph batches out of a single batch of data produced by a NeighborLoader or HGTLoader.'}, 'https://docs.tigergraph.com/pytigergraph/current/gds/pyg_transforms_chunk_1': {'distance': '0', 'content': 'It assumes that there are datetime attributes on vertices and edges.'}, 'https://docs.tigergraph.com/pytigergraph/current/gds/pyg_transforms_chunk_2': {'distance': '1', 'content': 'If vertex attributes change over time, children vertex attributes are moved to the appropriate parent, and then the children are removed from the graph.\\\\n_init_\\\\n()\\\\ninit\\\\n(vertex_start_attrs: dict, vertex_end_attrs: dict, edge_start_attrs: dict, edge_end_attrs: dict, start_dt: int, end_dt: int, feature_transforms: dict, timestep: int = 86400)\\\\nInstantiate a TemporalPyGTransform.\\\\nParameters:\\\\nvertex_start_attrs (str, dict)\\\\n: If using on a homogeneous graph, string of the attribute storing the timestamp of when a vertex becomes valid to include.\\\\nIf using on a heterogenous graph, dictionary that describes the attribute storing the timestamp of when a vertex becomes a valid vertex to include in the graph.\\\\nIn the format of {\\\\\"VERTEX_TYPE\\\\\": \\\\\"attribute_name\\\\\"}.\\\\nvertex_end_attrs (str, dict)\\\\n: If using on a homogeneous graph, string of the attribute storing the timestamp of when a vertex stops being valid to include.\\\\nIf using on a heterogenous graph, dictionary that describes the attribute storing the timestamp of when a vertex stops being a valid vertex to include in the graph.\\\\nIn the format of {\\\\\"VERTEX_TYPE\\\\\": \\\\\"attribute_name\\\\\"}\\\\nedge_start_attrs (str, dict)\\\\n: If using on a homogeneous graph, string of the attribute storing the timestamp of when an edge becomes valid to include.\\\\nIf using on a heterogenous graph, dictionary that describes the attribute storing the timestamp of when an edge becomes a valid edge to include in the graph.\\\\nUses the PyG edge format of (\\\\\"SourceVertexType\\\\\", \\\\\"EdgeName\\\\\", \\\\\"DestinationVertexType\\\\\").\\\\nIn the format of {(\\\\\"SourceVertexType\\\\\", \\\\\"EdgeName\\\\\", \\\\\"DestinationVertexType\\\\\"): \\\\\"attribute_name\\\\\"}.\\\\nedge_end_attrs (str, dict)\\\\n: If using on a homogeneous graph, string of the attribute storing the timestamp of when an edge stops being valid to include.\\\\nIf using on a heterogenous graph, dictionary that describes the attribute storing the timestamp of when an edge stops being a valid edge to include in the graph.\\\\nUses the PyG edge format of (\\\\\"SourceVertexType\\\\\", \\\\\"EdgeName\\\\\", \\\\\"DestinationVertexType\\\\\").\\\\nIn the format of {(\\\\\"SourceVertexType\\\\\", \\\\\"EdgeName\\\\\", \\\\\"DestinationVertexType\\\\\"): \\\\\"attribute_name\\\\\"}\\\\nstart_dt (int)\\\\n: The UNIX epoch time to start generating the sequence of subgraphs.\\\\nend_dt (int)\\\\n: The UNIX epoch time to stop generating the sequence of subgraphs.\\\\nfeature_transforms (dict, optional)\\\\n: Only available on heterogeneous graphs. Moves temporally dynamic features from \\\\\"children\\\\\" vertices to \\\\\"parent\\\\\" vertices when\\\\nmodelling temporal attributes in TigerGraph.\\\\nThe key of the dictionary is the edge to move the attributes from the child type to the parent type, and the value is a list of attributes to move.\\\\nIn the fromat of {(\\\\\"ItemInstance\\\\\", \\\\\"reverse_DESCRIBED_BY\\\\\", \\\\\"Item\\\\\"): [\\\\\"x\\\\\"]}\\\\ntimestep (int, optional)\\\\n: The number of seconds to use in between timesteps.'}, 'https://docs.tigergraph.com/pytigergraph/current/gds/pyg_transforms_chunk_4': {'distance': '3', 'content': 'Returns a list of PyTorch Geometric data objects, a sequence of snapshots in time of the graph.\\\\nEdges are removed between vertices that do not have connections at the given time.'}}}}]\n"
     ]
    }
   ],
   "source": [
    "print(resp[\"retrieved\"])"
   ]
  },
  {
   "cell_type": "code",
   "execution_count": null,
   "metadata": {},
   "outputs": [],
   "source": []
  }
 ],
 "metadata": {
  "kernelspec": {
   "display_name": "pytg_dev",
   "language": "python",
   "name": "python3"
  },
  "language_info": {
   "codemirror_mode": {
    "name": "ipython",
    "version": 3
   },
   "file_extension": ".py",
   "mimetype": "text/x-python",
   "name": "python",
   "nbconvert_exporter": "python",
   "pygments_lexer": "ipython3",
   "version": "3.9.16"
  }
 },
 "nbformat": 4,
 "nbformat_minor": 2
}
