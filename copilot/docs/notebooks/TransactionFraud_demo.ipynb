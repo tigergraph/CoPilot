{
 "cells": [
  {
   "cell_type": "markdown",
   "metadata": {},
   "source": [
    "Connect to TigerGraph and TigerGraph CoPilot"
   ]
  },
  {
   "cell_type": "code",
   "execution_count": 3,
   "metadata": {},
   "outputs": [],
   "source": [
    "from pyTigerGraph import TigerGraphConnection\n",
    "\n",
    "conn = TigerGraphConnection(\n",
    "    host=\"https://YOUR_TIGERGRAPH_CLOUD_HOST_HERE\", \n",
    "    graphname=\"Transaction_Fraud\", \n",
    "    username=\"YOUR_USERNAME_HERE\", \n",
    "    password=\"YOUR_PASSWORD_HERE\"\n",
    ")\n",
    "\n",
    "conn.getToken()\n",
    "\n",
    "conn.ai.configureCoPilotHost(hostname=\"http://YOUR_COPILOT_HOST\")"
   ]
  },
  {
   "cell_type": "markdown",
   "metadata": {},
   "source": [
    "List of questions:\n",
    "1. List all merchants’ IDs that have more than 2500 transactions from 2021-02-01 to 2021-10-01.\n",
    "\n",
    "2. What are the IDs of the largest 10 transactions made by the merchant with ID fraud_Kuhn LLC?\n",
    "\n",
    "3. What is the ID of the card associated with the transaction wirh ID 565964?\n",
    "\n",
    "4. What are the detailed attributes of the card with ID 4039101933538921?\n",
    "\n",
    "5. What are the detailed attributes of the merchant with ID fraud_Kuhn LLC?\n",
    "\n",
    "6. What are the detailed attributes of the transaction with ID 565964?"
   ]
  },
  {
   "cell_type": "code",
   "execution_count": 4,
   "metadata": {},
   "outputs": [
    {
     "name": "stdout",
     "output_type": "stream",
     "text": [
      "The merchants with IDs 'fraud_Kilback LLC' and 'fraud_Kuhn LLC' have more than 2500 transactions from 2021-02-01 to 2021-10-01.\n",
      "The merchants with IDs 'fraud_Kilback LLC' and 'fraud_Kuhn LLC' have more than 2500 transactions from 2021-02-01 to 2021-10-01.\n",
      "The merchants with IDs 'fraud_Kilback LLC' and 'fraud_Kuhn LLC' have more than 2500 transactions from 2021-02-01 to 2021-10-01.\n",
      "The merchants with IDs 'fraud_Kilback LLC' and 'fraud_Kuhn LLC' have more than 2500 transactions from 2021-02-01 to 2021-10-01.\n",
      "The merchants with IDs 'fraud_Kilback LLC' and 'fraud_Kuhn LLC' have more than 2500 transactions from 2021-02-01 to 2021-10-01.\n",
      "Average execution time over 5 runs: 25.7147 seconds\n"
     ]
    }
   ],
   "source": [
    "import json\n",
    "import time\n",
    "import requests\n",
    "from requests.auth import HTTPBasicAuth\n",
    "\n",
    "num_runs = 5\n",
    "\n",
    "execution_times = []\n",
    "\n",
    "res = {}\n",
    "\n",
    "for _ in range(num_runs):\n",
    "    start_time = time.time()\n",
    "    payload = {\n",
    "        \"query\": \"List all merchants’ IDs that have more than 2500 transactions from 2021-02-01 to 2021-10-01.\"\n",
    "    }\n",
    "\n",
    "    res = requests.post(\"http://0.0.0.0:8000/Transaction_Fraud/query\", \n",
    "                        json=payload, \n",
    "                        auth=HTTPBasicAuth(conn.username, conn.password))\n",
    "    print (json.loads(res.text).get(\"natural_language_response\", \"no answer\"))\n",
    "    end_time = time.time()\n",
    "\n",
    "    execution_time = end_time - start_time\n",
    "    execution_times.append(execution_time)\n",
    "\n",
    "average_time = sum(execution_times) / num_runs\n",
    "\n",
    "print(f\"Average execution time over {num_runs} runs: {average_time:.4f} seconds\")"
   ]
  },
  {
   "cell_type": "code",
   "execution_count": 5,
   "metadata": {},
   "outputs": [
    {
     "name": "stdout",
     "output_type": "stream",
     "text": [
      "The IDs of the largest 10 transactions made by the merchant fraud_Kuhn LLC are 819961, 306794, 482978, 851881, 760455, 715372, 565964, 36603, 582179, and 306664.\n",
      "The IDs of the largest 10 transactions made by the merchant fraud_Kuhn LLC are 819961, 306794, 482978, 851881, 760455, 715372, 565964, 36603, 582179, and 306664.\n",
      "The IDs of the largest 10 transactions made by the merchant fraud_Kuhn LLC are 819961, 306794, 482978, 851881, 760455, 715372, 565964, 36603, 582179, and 306664.\n",
      "The IDs of the largest 10 transactions made by the merchant fraud_Kuhn LLC are 819961, 306794, 482978, 851881, 760455, 715372, 565964, 36603, 582179, and 306664.\n",
      "The IDs of the largest 10 transactions made by the merchant fraud_Kuhn LLC are 819961, 306794, 482978, 851881, 760455, 715372, 565964, 36603, 582179, and 306664.\n",
      "Average execution time over 5 runs: 23.6942 seconds\n"
     ]
    }
   ],
   "source": [
    "execution_times = []\n",
    "\n",
    "res = {}\n",
    "\n",
    "for _ in range(num_runs):\n",
    "    start_time = time.time()\n",
    "\n",
    "    payload = {\n",
    "        \"query\": \"What are the IDs of the largest 10 transactions made by the merchant fraud_Kuhn LLC?\"\n",
    "    }\n",
    "\n",
    "    res = requests.post(\"http://0.0.0.0:8000/Transaction_Fraud/query\", \n",
    "                        json=payload, \n",
    "                        auth=HTTPBasicAuth(conn.username, conn.password))\n",
    "    print (json.loads(res.text).get(\"natural_language_response\", \"no answer\"))\n",
    "    end_time = time.time()\n",
    "\n",
    "    execution_time = end_time - start_time\n",
    "    execution_times.append(execution_time)\n",
    "\n",
    "average_time = sum(execution_times) / num_runs\n",
    "\n",
    "print(f\"Average execution time over {num_runs} runs: {average_time:.4f} seconds\")"
   ]
  },
  {
   "cell_type": "code",
   "execution_count": 6,
   "metadata": {},
   "outputs": [
    {
     "name": "stdout",
     "output_type": "stream",
     "text": [
      "The card associated with the transaction 565964 is 4039101933538921.\n",
      "The card associated with the transaction 565964 is 4039101933538921.\n",
      "The card associated with the transaction 565964 is 4039101933538921.\n",
      "The card associated with the transaction 565964 is 4039101933538921.\n",
      "The card associated with the transaction 565964 is 4039101933538921.\n",
      "Average execution time over 5 runs: 19.6252 seconds\n"
     ]
    }
   ],
   "source": [
    "execution_times = []\n",
    "\n",
    "res = {}\n",
    "\n",
    "for _ in range(num_runs):\n",
    "    start_time = time.time()\n",
    "\n",
    "    payload = {\n",
    "        \"query\": \"What is the card associated with the transaction 565964?\"\n",
    "    }\n",
    "\n",
    "    res = requests.post(\"http://0.0.0.0:8000/Transaction_Fraud/query\", \n",
    "                        json=payload, \n",
    "                        auth=HTTPBasicAuth(conn.username, conn.password))\n",
    "    print (json.loads(res.text).get(\"natural_language_response\", \"no answer\"))\n",
    "    end_time = time.time()\n",
    "\n",
    "    execution_time = end_time - start_time\n",
    "    execution_times.append(execution_time)\n",
    "\n",
    "average_time = sum(execution_times) / num_runs\n",
    "\n",
    "print(f\"Average execution time over {num_runs} runs: {average_time:.4f} seconds\")"
   ]
  },
  {
   "cell_type": "code",
   "execution_count": 7,
   "metadata": {},
   "outputs": [
    {
     "name": "stdout",
     "output_type": "stream",
     "text": [
      "The card with ID 4039101933538921 has several attributes. The card number is 4039101933538921. It is not marked as fraudulent. The card's pagerank is 1.238044. The card is associated with the customer ID 274726916. The size of the card is 247. The occupation associated with the card is 'IT sales professional'.\n",
      "The card with ID 4039101933538921 has several attributes. The card number is 4039101933538921. It is not marked as fraudulent. The pagerank of the card is 1.238044. The card is associated with the customer ID 274726916. The size of the card is 247. The occupation associated with the card is 'IT sales professional'.\n",
      "The card with ID 4039101933538921 has several attributes. The card number is 4039101933538921. It is not marked as fraudulent. The card's pagerank is 1.238044. The card is associated with the customer ID 274726916. The size of the card is 247. The occupation associated with the card is 'IT sales professional'.\n",
      "The card with ID 4039101933538921 has several attributes. The card number is 4039101933538921. It is not marked as a fraudulent card. The pagerank of the card is 1.238044. The card is associated with the customer ID 274726916. The size of the card is 247. The occupation associated with the card is 'IT sales professional'.\n",
      "The card with ID 4039101933538921 has several attributes. The card number is 4039101933538921. It is not marked as fraudulent. The card's pagerank is 1.238044. The card is associated with the customer ID 274726916. The size of the card is 247. The occupation associated with the card is 'IT sales professional'.\n",
      "Average execution time over 5 runs: 22.5208 seconds\n"
     ]
    }
   ],
   "source": [
    "execution_times = []\n",
    "\n",
    "res = {}\n",
    "\n",
    "for _ in range(num_runs):\n",
    "    start_time = time.time()\n",
    "\n",
    "    payload = {\n",
    "        \"query\": \"What are the detailed attributes of the card with ID 4039101933538921?\"\n",
    "    }\n",
    "\n",
    "    res = requests.post(\"http://0.0.0.0:8000/Transaction_Fraud/query\", \n",
    "                        json=payload, \n",
    "                        auth=HTTPBasicAuth(conn.username, conn.password))\n",
    "    print (json.loads(res.text).get(\"natural_language_response\", \"no answer\"))\n",
    "    end_time = time.time()\n",
    "\n",
    "    execution_time = end_time - start_time\n",
    "    execution_times.append(execution_time)\n",
    "\n",
    "average_time = sum(execution_times) / num_runs\n",
    "\n",
    "print(f\"Average execution time over {num_runs} runs: {average_time:.4f} seconds\")"
   ]
  },
  {
   "cell_type": "code",
   "execution_count": 8,
   "metadata": {},
   "outputs": [
    {
     "name": "stdout",
     "output_type": "stream",
     "text": [
      "The merchant with ID fraud_Kuhn LLC has several attributes. The name of the merchant is 'fraud_Kuhn LLC'. The merchant falls under the category 'misc_net'. The Pagerank score of the merchant is 1.235147. The Community ID of the merchant is 174063623 and the size of the community is 1.\n",
      "The merchant with ID fraud_Kuhn LLC has several attributes. The name of the merchant is 'fraud_Kuhn LLC'. The merchant falls under the category 'misc_net'. The Pagerank score of the merchant is 1.235147. The Community ID associated with the merchant is 174063623 and the size of the community is 1.\n",
      "The merchant with ID fraud_Kuhn LLC has several attributes. The name of the merchant is 'fraud_Kuhn LLC'. The merchant falls under the category 'misc_net'. The Pagerank score of the merchant is 1.235147. The Community ID associated with the merchant is 174063623 and the size of the community is 1.\n",
      "The merchant with ID fraud_Kuhn LLC has several attributes. The name of the merchant is 'fraud_Kuhn LLC'. The merchant falls under the category 'misc_net'. The Pagerank score of the merchant is 1.235147. The Community ID associated with the merchant is 174063623 and the size of the community is 1.\n",
      "The merchant with ID fraud_Kuhn LLC has several attributes. The name of the merchant is 'fraud_Kuhn LLC'. It falls under the 'misc_net' category. The merchant has a Pagerank Score of 1.235147. It belongs to the community with ID 174063623, which has a size of 1.\n",
      "Average execution time over 5 runs: 21.5953 seconds\n"
     ]
    }
   ],
   "source": [
    "execution_times = []\n",
    "\n",
    "res = {}\n",
    "\n",
    "for _ in range(num_runs):\n",
    "    start_time = time.time()\n",
    "\n",
    "    payload = {\n",
    "        \"query\": \"What are the detailed attributes of the merchant with ID fraud_Kuhn LLC?\"\n",
    "    }\n",
    "\n",
    "    res = requests.post(\"http://0.0.0.0:8000/Transaction_Fraud/query\", \n",
    "                        json=payload, \n",
    "                        auth=HTTPBasicAuth(conn.username, conn.password))\n",
    "    print (json.loads(res.text).get(\"natural_language_response\", \"no answer\"))\n",
    "    end_time = time.time()\n",
    "\n",
    "    execution_time = end_time - start_time\n",
    "    execution_times.append(execution_time)\n",
    "\n",
    "average_time = sum(execution_times) / num_runs\n",
    "\n",
    "print(f\"Average execution time over {num_runs} runs: {average_time:.4f} seconds\")"
   ]
  },
  {
   "cell_type": "code",
   "execution_count": 9,
   "metadata": {},
   "outputs": [
    {
     "name": "stdout",
     "output_type": "stream",
     "text": [
      "The transaction with ID 565964 is a payment transaction that occurred on 2021-09-01 at 22:23:57. The transaction amount was 1126.14 and it was flagged as a fraudulent transaction. The transaction was made by an 84-year-old IT sales professional, a male living in a city with a population of 131628. The merchant involved in the transaction has a PageRank of 1.235147. The transaction has a shortest path length of 1, a maximum transaction amount interval of 3457, and no repeated card count. The merchant category has a total count of 86245 with a total amount of 3962902, an average amount of 75.66698, and a maximum amount of 16160.11.\n",
      "The transaction with ID 565964 is a payment transaction that occurred on 2021-09-01 at 22:23:57. The transaction amount was 1126.14 and it was flagged as a fraudulent transaction. The transaction was made by a male IT sales professional, aged 84, living in a city with a population of 131628. The merchant involved in the transaction has a PageRank of 1.235147. The transaction has a shortest path length of 1, a maximum transaction amount interval of 3457, and no repeated card count. The merchant category has a total count of 86245 with a total amount of 3962902, an average amount of 75.66698, and a maximum amount of 16160.11. The credit card community size is 247.\n",
      "The transaction with ID 565964 is a payment transaction that occurred on 2021-09-01 at 22:23:57. The transaction amount was 1126.14 and it was flagged as a fraudulent transaction. The transaction was associated with a merchant category that has an average transaction amount of 75.66698, a maximum transaction amount of 16160.11, and a minimum transaction amount of 1. The transaction was made by a male IT sales professional, aged 84, living in a city with a population of 131628.\n",
      "The transaction with ID 565964 is a payment transaction that occurred on 2021-09-01 at 22:23:57. The transaction amount was 1126.14 and it was flagged as a fraudulent transaction. The transaction was made by an 84-year-old IT sales professional, a male living in a city with a population of 131628. The merchant involved in the transaction has a PageRank of 1.235147, while the card has a PageRank of 1.238044. The merchant's community size is 1, while the card's community size is 247. The merchant category has a total count of 86245 transactions, with a total amount of 3962902, an average amount of 75.66698, a maximum amount of 16160.11, and a minimum amount of 1.\n",
      "The transaction with ID 565964 is a payment transaction that occurred on 2021-09-01 at 22:23:57. The transaction amount was 1126.14 and it was flagged as a fraudulent transaction. The transaction was made by a male IT sales professional, aged 84, living in a city with a population of 131628. The merchant category for this transaction is not specified. The transaction has a shortest path length of 1, a maximum transaction amount interval of 3457, and no repeated card count. The common merchant transaction count is 39113, with a total amount of 3091602, an average amount of 79.04268, a maximum amount of 18760.46, and a minimum amount of 1. The merchant's PageRank is 1.235147 and the card's PageRank is 1.238044.\n",
      "Average execution time over 5 runs: 26.6120 seconds\n"
     ]
    }
   ],
   "source": [
    "execution_times = []\n",
    "\n",
    "res = {}\n",
    "\n",
    "for _ in range(num_runs):\n",
    "    start_time = time.time()\n",
    "\n",
    "    payload = {\n",
    "        \"query\": \"What are the detailed attributes of the transaction with ID 565964?\"\n",
    "    }\n",
    "\n",
    "    res = requests.post(\"http://0.0.0.0:8000/Transaction_Fraud/query\", \n",
    "                        json=payload, \n",
    "                        auth=HTTPBasicAuth(conn.username, conn.password))\n",
    "    print (json.loads(res.text).get(\"natural_language_response\", \"no answer\"))\n",
    "\n",
    "    end_time = time.time()\n",
    "\n",
    "    execution_time = end_time - start_time\n",
    "    execution_times.append(execution_time)\n",
    "\n",
    "average_time = sum(execution_times) / num_runs\n",
    "\n",
    "print(f\"Average execution time over {num_runs} runs: {average_time:.4f} seconds\")"
   ]
  },
  {
   "cell_type": "markdown",
   "metadata": {},
   "source": []
  }
 ],
 "metadata": {
  "kernelspec": {
   "display_name": "pytg_dev",
   "language": "python",
   "name": "python3"
  },
  "language_info": {
   "codemirror_mode": {
    "name": "ipython",
    "version": 3
   },
   "file_extension": ".py",
   "mimetype": "text/x-python",
   "name": "python",
   "nbconvert_exporter": "python",
   "pygments_lexer": "ipython3",
   "version": "3.11.9"
  }
 },
 "nbformat": 4,
 "nbformat_minor": 2
}
